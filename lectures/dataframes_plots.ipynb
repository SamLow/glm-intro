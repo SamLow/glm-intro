{
 "metadata": {
  "name": "",
  "signature": "sha256:c1f6442e4af372a89c591c78d94ee85d760eface18e42bad1c7e82541840f37a"
 },
 "nbformat": 3,
 "nbformat_minor": 0,
 "worksheets": [
  {
   "cells": [
    {
     "cell_type": "markdown",
     "metadata": {
      "slideshow": {
       "slide_type": "slide"
      }
     },
     "source": [
      "# Dataframes and exploratory plotting: Pandas and Seaborn\n",
      "\n",
      "[Tom Wallis](http://www.tomwallis.info) and [Philipp Berens](http://philippberens.wordpress.com/)\n",
      "\n",
      "The University of T\u00fcbingen\n"
     ]
    },
    {
     "cell_type": "markdown",
     "metadata": {
      "slideshow": {
       "slide_type": "slide"
      }
     },
     "source": [
      "# Introduction\n",
      "\n",
      "Python is a general-purpose programming language used in a vast number of domains. Thanks to add-on packages (\"modules\"), it can be used to analyse data in a manner similar to domain-specific languages (like R). One advantage of using a language like Python over something like R is that knowing some Python will probably be useful to you even when you're not doing data analysis.\n",
      "\n",
      "Here we introduce `Pandas`, a module for handling data sets as *dataframes*, and `Seaborn`, a high-level plotting library"
     ]
    },
    {
     "cell_type": "markdown",
     "metadata": {
      "slideshow": {
       "slide_type": "slide"
      }
     },
     "source": [
      "- We will be running through code examples to do basic data manipulation using Python, and you will be able to have these lecture slides for use in your own data analysis applications\n",
      "- The web is also full of tutorials, guides and answers on how to do things: if you have a problem, do a web-search for the thing you're trying to do. StackOverflow is a particularly useful website."
     ]
    },
    {
     "cell_type": "markdown",
     "metadata": {
      "slideshow": {
       "slide_type": "slide"
      }
     },
     "source": [
      "## Importing modules into the Python workspace\n",
      "\n",
      "To use the modules that extend the functionality of Python, they must first be imported into memory."
     ]
    },
    {
     "cell_type": "code",
     "collapsed": false,
     "input": [
      "import numpy as np\n",
      "import pandas as pd\n",
      "import seaborn as sns\n",
      "import matplotlib.pyplot as plt\n",
      "\n",
      "# set up to have plots appear in the ipython notebook:\n",
      "%matplotlib inline  \n",
      "sns.set_style(\"white\")  # sets the style of seaborn plots"
     ],
     "language": "python",
     "metadata": {
      "slideshow": {
       "slide_type": "fragment"
      }
     },
     "outputs": [],
     "prompt_number": 1
    },
    {
     "cell_type": "markdown",
     "metadata": {
      "slideshow": {
       "slide_type": "slide"
      }
     },
     "source": [
      "## Example: Sleep in Mammals\n",
      "\n",
      "We have compiled a few interesting datasets to use in this course. First we will look at a dataset of sleep times in mammals. \n",
      "\n",
      "In this paper (Allison & Cicchetti, 1976), the authors collected a dataset of the number of hours various species of mammal sleep, and what type of sleep (slow-wave or REM sleep). They also compiled some other metrics, including things like lifespan and gestation, as well as environmental factors like the species' risk of predation. Here's the abstract from the paper:\n",
      "\n",
      "> The interrelationships between sleep, ecological, and constitutional variables were assessed statistically for 39 mammalian species. Slow-wave sleep is negatively associated with a factor related to body size, which suggests that large amounts of this sleep phase are disadvantageous in large species. Paradoxical sleep is associated with a factor related to predatory danger, which suggests that large amounts of this sleep phase are disadvantageous in prey species.\n",
      "\n",
      "Allison, T. & Cicchetti, D.V. (1976). Sleep in mammals: ecological and constitutional correlates. *Science, 194*(4266): 732-734\n",
      "\n",
      "The dataset is provided as a tab-delimited text file. First, let's import the data into a Pandas dataframe: "
     ]
    },
    {
     "cell_type": "code",
     "collapsed": false,
     "input": [
      "# import the dataset csv file into a Pandas dataframe object:\n",
      "sleep = pd.read_csv('../Datasets/sleep.txt', sep='\\t')  # the \"\\t\" means it's a tab separated file."
     ],
     "language": "python",
     "metadata": {
      "slideshow": {
       "slide_type": "fragment"
      }
     },
     "outputs": [],
     "prompt_number": 2
    },
    {
     "cell_type": "markdown",
     "metadata": {},
     "source": [
      "Note that Pandas offers lots of other read / write functions. For example, it's easy to read from an excel spreadsheet using `read_excel`. \n",
      "\n",
      "Note how we've referenced Pandas as `pd` (as we imported it, above). The dot after `pd` (as in `pd.read_csv`) tells us that we're using a function (`read_csv`) from the Pandas module. This is a nice feature of Python code, because it's clear where all of the functions you're using come from."
     ]
    },
    {
     "cell_type": "markdown",
     "metadata": {},
     "source": [
      "We can see the contents of our current \"workspace\" (the stuff our IPython Notebook knows about) by typing `whos` in an otherwise empty cell and running it:"
     ]
    },
    {
     "cell_type": "code",
     "collapsed": false,
     "input": [
      "whos  "
     ],
     "language": "python",
     "metadata": {
      "slideshow": {
       "slide_type": "fragment"
      }
     },
     "outputs": [
      {
       "output_type": "stream",
       "stream": "stdout",
       "text": [
        "Variable   Type         Data/Info\n",
        "---------------------------------\n",
        "np         module       <module 'numpy' from '/Us<...>kages/numpy/__init__.py'>\n",
        "pd         module       <module 'pandas' from '/U<...>ages/pandas/__init__.py'>\n",
        "plt        module       <module 'matplotlib.pyplo<...>es/matplotlib/pyplot.py'>\n",
        "sleep      DataFrame                       Specie<...>n\\n[62 rows x 11 columns]\n",
        "sns        module       <module 'seaborn' from '/<...>ges/seaborn/__init__.py'>\n"
       ]
      }
     ],
     "prompt_number": 3
    },
    {
     "cell_type": "markdown",
     "metadata": {},
     "source": [
      "### Objects\n",
      "\n",
      "Most variables in the workspace are *objects*. An *object* has a specific meaning for programmers. \n",
      "\n",
      "If you don't know this meaning, think of an *object* like a car:\n",
      "\n",
      "- you can do things with it\n",
      "- you can store things in it\n",
      "- if you use it for something it wasn't intended for, bad things can happen\n",
      "\n",
      "Similarly, an *object* in programming usually contains *methods* (things you can do with it) and sometimes data of some sort (things stored in it). If you try to use an object in a way it's not intended to be used, it will return an error.\n",
      "\n",
      "We can explore what stuff we can do with an object in the workspace by using dot completion in the notebook."
     ]
    },
    {
     "cell_type": "markdown",
     "metadata": {
      "slideshow": {
       "slide_type": "slide"
      }
     },
     "source": [
      "## Dots, tab completion, accessing help\n",
      "\n",
      "When using the IPython Notebook, you can check what stuff you can do to an object in the workspace by putting a fullstop after it and then hitting tab in the cell. This shows you a list of all the methods that can operate on that object.\n",
      "\n",
      "You can also hit `shift + tab` to get help on a method; hit this multiple times to get more help.\n",
      "\n",
      "Finally, be sure to look at the user interface tour of the IPython Notebook, and to check out some of the keyboard shortcuts."
     ]
    },
    {
     "cell_type": "code",
     "collapsed": false,
     "input": [
      "sleep.mean()"
     ],
     "language": "python",
     "metadata": {
      "slideshow": {
       "slide_type": "fragment"
      }
     },
     "outputs": [
      {
       "metadata": {},
       "output_type": "pyout",
       "prompt_number": 4,
       "text": [
        "BodyWt         198.789984\n",
        "BrainWt        283.134194\n",
        "NonDreaming      8.672917\n",
        "Dreaming         1.972000\n",
        "TotalSleep      10.532759\n",
        "LifeSpan        19.877586\n",
        "Gestation      142.353448\n",
        "Predation        2.870968\n",
        "Exposure         2.419355\n",
        "Danger           2.612903\n",
        "dtype: float64"
       ]
      }
     ],
     "prompt_number": 4
    },
    {
     "cell_type": "code",
     "collapsed": false,
     "input": [
      "# look at what the \"sleep\" dataframe contains:\n",
      "sleep.info()"
     ],
     "language": "python",
     "metadata": {
      "slideshow": {
       "slide_type": "slide"
      }
     },
     "outputs": [
      {
       "output_type": "stream",
       "stream": "stdout",
       "text": [
        "<class 'pandas.core.frame.DataFrame'>\n",
        "Int64Index: 62 entries, 0 to 61\n",
        "Data columns (total 11 columns):\n",
        "Species        62 non-null object\n",
        "BodyWt         62 non-null float64\n",
        "BrainWt        62 non-null float64\n",
        "NonDreaming    48 non-null float64\n",
        "Dreaming       50 non-null float64\n",
        "TotalSleep     58 non-null float64\n",
        "LifeSpan       58 non-null float64\n",
        "Gestation      58 non-null float64\n",
        "Predation      62 non-null int64\n",
        "Exposure       62 non-null int64\n",
        "Danger         62 non-null int64\n",
        "dtypes: float64(7), int64(3), object(1)\n",
        "memory usage: 5.8+ KB\n"
       ]
      }
     ],
     "prompt_number": 5
    },
    {
     "cell_type": "code",
     "collapsed": false,
     "input": [
      "# let's look at the first few lines of the sleep dataset using `head`:\n",
      "sleep.head()"
     ],
     "language": "python",
     "metadata": {},
     "outputs": [
      {
       "html": [
        "<div style=\"max-height:1000px;max-width:1500px;overflow:auto;\">\n",
        "<table border=\"1\" class=\"dataframe\">\n",
        "  <thead>\n",
        "    <tr style=\"text-align: right;\">\n",
        "      <th></th>\n",
        "      <th>Species</th>\n",
        "      <th>BodyWt</th>\n",
        "      <th>BrainWt</th>\n",
        "      <th>NonDreaming</th>\n",
        "      <th>Dreaming</th>\n",
        "      <th>TotalSleep</th>\n",
        "      <th>LifeSpan</th>\n",
        "      <th>Gestation</th>\n",
        "      <th>Predation</th>\n",
        "      <th>Exposure</th>\n",
        "      <th>Danger</th>\n",
        "    </tr>\n",
        "  </thead>\n",
        "  <tbody>\n",
        "    <tr>\n",
        "      <th>0</th>\n",
        "      <td>        Africanelephant</td>\n",
        "      <td> 6654.000</td>\n",
        "      <td> 5712.0</td>\n",
        "      <td> NaN</td>\n",
        "      <td> NaN</td>\n",
        "      <td>  3.3</td>\n",
        "      <td> 38.6</td>\n",
        "      <td> 645</td>\n",
        "      <td> 3</td>\n",
        "      <td> 5</td>\n",
        "      <td> 3</td>\n",
        "    </tr>\n",
        "    <tr>\n",
        "      <th>1</th>\n",
        "      <td> Africangiantpouchedrat</td>\n",
        "      <td>    1.000</td>\n",
        "      <td>    6.6</td>\n",
        "      <td> 6.3</td>\n",
        "      <td> 2.0</td>\n",
        "      <td>  8.3</td>\n",
        "      <td>  4.5</td>\n",
        "      <td>  42</td>\n",
        "      <td> 3</td>\n",
        "      <td> 1</td>\n",
        "      <td> 3</td>\n",
        "    </tr>\n",
        "    <tr>\n",
        "      <th>2</th>\n",
        "      <td>              ArcticFox</td>\n",
        "      <td>    3.385</td>\n",
        "      <td>   44.5</td>\n",
        "      <td> NaN</td>\n",
        "      <td> NaN</td>\n",
        "      <td> 12.5</td>\n",
        "      <td> 14.0</td>\n",
        "      <td>  60</td>\n",
        "      <td> 1</td>\n",
        "      <td> 1</td>\n",
        "      <td> 1</td>\n",
        "    </tr>\n",
        "    <tr>\n",
        "      <th>3</th>\n",
        "      <td>   Arcticgroundsquirrel</td>\n",
        "      <td>    0.920</td>\n",
        "      <td>    5.7</td>\n",
        "      <td> NaN</td>\n",
        "      <td> NaN</td>\n",
        "      <td> 16.5</td>\n",
        "      <td>  NaN</td>\n",
        "      <td>  25</td>\n",
        "      <td> 5</td>\n",
        "      <td> 2</td>\n",
        "      <td> 3</td>\n",
        "    </tr>\n",
        "    <tr>\n",
        "      <th>4</th>\n",
        "      <td>          Asianelephant</td>\n",
        "      <td> 2547.000</td>\n",
        "      <td> 4603.0</td>\n",
        "      <td> 2.1</td>\n",
        "      <td> 1.8</td>\n",
        "      <td>  3.9</td>\n",
        "      <td> 69.0</td>\n",
        "      <td> 624</td>\n",
        "      <td> 3</td>\n",
        "      <td> 5</td>\n",
        "      <td> 4</td>\n",
        "    </tr>\n",
        "  </tbody>\n",
        "</table>\n",
        "</div>"
       ],
       "metadata": {},
       "output_type": "pyout",
       "prompt_number": 6,
       "text": [
        "                  Species    BodyWt  BrainWt  NonDreaming  Dreaming  \\\n",
        "0         Africanelephant  6654.000   5712.0          NaN       NaN   \n",
        "1  Africangiantpouchedrat     1.000      6.6          6.3       2.0   \n",
        "2               ArcticFox     3.385     44.5          NaN       NaN   \n",
        "3    Arcticgroundsquirrel     0.920      5.7          NaN       NaN   \n",
        "4           Asianelephant  2547.000   4603.0          2.1       1.8   \n",
        "\n",
        "   TotalSleep  LifeSpan  Gestation  Predation  Exposure  Danger  \n",
        "0         3.3      38.6        645          3         5       3  \n",
        "1         8.3       4.5         42          3         1       3  \n",
        "2        12.5      14.0         60          1         1       1  \n",
        "3        16.5       NaN         25          5         2       3  \n",
        "4         3.9      69.0        624          3         5       4  "
       ]
      }
     ],
     "prompt_number": 6
    },
    {
     "cell_type": "code",
     "collapsed": false,
     "input": [
      "# we can also use the \"describe\" method to summarise some information in our variables:\n",
      "sleep.describe()"
     ],
     "language": "python",
     "metadata": {
      "slideshow": {
       "slide_type": "slide"
      }
     },
     "outputs": [
      {
       "html": [
        "<div style=\"max-height:1000px;max-width:1500px;overflow:auto;\">\n",
        "<table border=\"1\" class=\"dataframe\">\n",
        "  <thead>\n",
        "    <tr style=\"text-align: right;\">\n",
        "      <th></th>\n",
        "      <th>BodyWt</th>\n",
        "      <th>BrainWt</th>\n",
        "      <th>NonDreaming</th>\n",
        "      <th>Dreaming</th>\n",
        "      <th>TotalSleep</th>\n",
        "      <th>LifeSpan</th>\n",
        "      <th>Gestation</th>\n",
        "      <th>Predation</th>\n",
        "      <th>Exposure</th>\n",
        "      <th>Danger</th>\n",
        "    </tr>\n",
        "  </thead>\n",
        "  <tbody>\n",
        "    <tr>\n",
        "      <th>count</th>\n",
        "      <td>   62.000000</td>\n",
        "      <td>   62.000000</td>\n",
        "      <td> 48.000000</td>\n",
        "      <td> 50.000000</td>\n",
        "      <td> 58.000000</td>\n",
        "      <td>  58.000000</td>\n",
        "      <td>  58.000000</td>\n",
        "      <td> 62.000000</td>\n",
        "      <td> 62.000000</td>\n",
        "      <td> 62.000000</td>\n",
        "    </tr>\n",
        "    <tr>\n",
        "      <th>mean</th>\n",
        "      <td>  198.789984</td>\n",
        "      <td>  283.134194</td>\n",
        "      <td>  8.672917</td>\n",
        "      <td>  1.972000</td>\n",
        "      <td> 10.532759</td>\n",
        "      <td>  19.877586</td>\n",
        "      <td> 142.353448</td>\n",
        "      <td>  2.870968</td>\n",
        "      <td>  2.419355</td>\n",
        "      <td>  2.612903</td>\n",
        "    </tr>\n",
        "    <tr>\n",
        "      <th>std</th>\n",
        "      <td>  899.158011</td>\n",
        "      <td>  930.278942</td>\n",
        "      <td>  3.666452</td>\n",
        "      <td>  1.442651</td>\n",
        "      <td>  4.606760</td>\n",
        "      <td>  18.206255</td>\n",
        "      <td> 146.805039</td>\n",
        "      <td>  1.476414</td>\n",
        "      <td>  1.604792</td>\n",
        "      <td>  1.441252</td>\n",
        "    </tr>\n",
        "    <tr>\n",
        "      <th>min</th>\n",
        "      <td>    0.005000</td>\n",
        "      <td>    0.140000</td>\n",
        "      <td>  2.100000</td>\n",
        "      <td>  0.000000</td>\n",
        "      <td>  2.600000</td>\n",
        "      <td>   2.000000</td>\n",
        "      <td>  12.000000</td>\n",
        "      <td>  1.000000</td>\n",
        "      <td>  1.000000</td>\n",
        "      <td>  1.000000</td>\n",
        "    </tr>\n",
        "    <tr>\n",
        "      <th>25%</th>\n",
        "      <td>    0.600000</td>\n",
        "      <td>    4.250000</td>\n",
        "      <td>  6.250000</td>\n",
        "      <td>  0.900000</td>\n",
        "      <td>  8.050000</td>\n",
        "      <td>   6.625000</td>\n",
        "      <td>  35.750000</td>\n",
        "      <td>  2.000000</td>\n",
        "      <td>  1.000000</td>\n",
        "      <td>  1.000000</td>\n",
        "    </tr>\n",
        "    <tr>\n",
        "      <th>50%</th>\n",
        "      <td>    3.342500</td>\n",
        "      <td>   17.250000</td>\n",
        "      <td>  8.350000</td>\n",
        "      <td>  1.800000</td>\n",
        "      <td> 10.450000</td>\n",
        "      <td>  15.100000</td>\n",
        "      <td>  79.000000</td>\n",
        "      <td>  3.000000</td>\n",
        "      <td>  2.000000</td>\n",
        "      <td>  2.000000</td>\n",
        "    </tr>\n",
        "    <tr>\n",
        "      <th>75%</th>\n",
        "      <td>   48.202500</td>\n",
        "      <td>  166.000000</td>\n",
        "      <td> 11.000000</td>\n",
        "      <td>  2.550000</td>\n",
        "      <td> 13.200000</td>\n",
        "      <td>  27.750000</td>\n",
        "      <td> 207.500000</td>\n",
        "      <td>  4.000000</td>\n",
        "      <td>  4.000000</td>\n",
        "      <td>  4.000000</td>\n",
        "    </tr>\n",
        "    <tr>\n",
        "      <th>max</th>\n",
        "      <td> 6654.000000</td>\n",
        "      <td> 5712.000000</td>\n",
        "      <td> 17.900000</td>\n",
        "      <td>  6.600000</td>\n",
        "      <td> 19.900000</td>\n",
        "      <td> 100.000000</td>\n",
        "      <td> 645.000000</td>\n",
        "      <td>  5.000000</td>\n",
        "      <td>  5.000000</td>\n",
        "      <td>  5.000000</td>\n",
        "    </tr>\n",
        "  </tbody>\n",
        "</table>\n",
        "</div>"
       ],
       "metadata": {},
       "output_type": "pyout",
       "prompt_number": 7,
       "text": [
        "            BodyWt      BrainWt  NonDreaming   Dreaming  TotalSleep  \\\n",
        "count    62.000000    62.000000    48.000000  50.000000   58.000000   \n",
        "mean    198.789984   283.134194     8.672917   1.972000   10.532759   \n",
        "std     899.158011   930.278942     3.666452   1.442651    4.606760   \n",
        "min       0.005000     0.140000     2.100000   0.000000    2.600000   \n",
        "25%       0.600000     4.250000     6.250000   0.900000    8.050000   \n",
        "50%       3.342500    17.250000     8.350000   1.800000   10.450000   \n",
        "75%      48.202500   166.000000    11.000000   2.550000   13.200000   \n",
        "max    6654.000000  5712.000000    17.900000   6.600000   19.900000   \n",
        "\n",
        "         LifeSpan   Gestation  Predation   Exposure     Danger  \n",
        "count   58.000000   58.000000  62.000000  62.000000  62.000000  \n",
        "mean    19.877586  142.353448   2.870968   2.419355   2.612903  \n",
        "std     18.206255  146.805039   1.476414   1.604792   1.441252  \n",
        "min      2.000000   12.000000   1.000000   1.000000   1.000000  \n",
        "25%      6.625000   35.750000   2.000000   1.000000   1.000000  \n",
        "50%     15.100000   79.000000   3.000000   2.000000   2.000000  \n",
        "75%     27.750000  207.500000   4.000000   4.000000   4.000000  \n",
        "max    100.000000  645.000000   5.000000   5.000000   5.000000  "
       ]
      }
     ],
     "prompt_number": 7
    },
    {
     "cell_type": "markdown",
     "metadata": {
      "slideshow": {
       "slide_type": "slide"
      }
     },
     "source": [
      "You can see that we have some missing cases: not all variables have 62 entries.\n",
      "\n",
      "Let's keep only the complete cases, by using the `dropna` method:"
     ]
    },
    {
     "cell_type": "code",
     "collapsed": false,
     "input": [
      "sleep = sleep.dropna(axis=0)  # drop on axis 0 (i.e. rows)"
     ],
     "language": "python",
     "metadata": {
      "slideshow": {
       "slide_type": "fragment"
      }
     },
     "outputs": [],
     "prompt_number": 8
    },
    {
     "cell_type": "code",
     "collapsed": false,
     "input": [
      "sleep.info()"
     ],
     "language": "python",
     "metadata": {
      "slideshow": {
       "slide_type": "fragment"
      }
     },
     "outputs": [
      {
       "output_type": "stream",
       "stream": "stdout",
       "text": [
        "<class 'pandas.core.frame.DataFrame'>\n",
        "Int64Index: 42 entries, 1 to 60\n",
        "Data columns (total 11 columns):\n",
        "Species        42 non-null object\n",
        "BodyWt         42 non-null float64\n",
        "BrainWt        42 non-null float64\n",
        "NonDreaming    42 non-null float64\n",
        "Dreaming       42 non-null float64\n",
        "TotalSleep     42 non-null float64\n",
        "LifeSpan       42 non-null float64\n",
        "Gestation      42 non-null float64\n",
        "Predation      42 non-null int64\n",
        "Exposure       42 non-null int64\n",
        "Danger         42 non-null int64\n",
        "dtypes: float64(7), int64(3), object(1)\n",
        "memory usage: 3.9+ KB\n"
       ]
      }
     ],
     "prompt_number": 9
    },
    {
     "cell_type": "code",
     "collapsed": false,
     "input": [
      "sleep.head()"
     ],
     "language": "python",
     "metadata": {},
     "outputs": [
      {
       "html": [
        "<div style=\"max-height:1000px;max-width:1500px;overflow:auto;\">\n",
        "<table border=\"1\" class=\"dataframe\">\n",
        "  <thead>\n",
        "    <tr style=\"text-align: right;\">\n",
        "      <th></th>\n",
        "      <th>Species</th>\n",
        "      <th>BodyWt</th>\n",
        "      <th>BrainWt</th>\n",
        "      <th>NonDreaming</th>\n",
        "      <th>Dreaming</th>\n",
        "      <th>TotalSleep</th>\n",
        "      <th>LifeSpan</th>\n",
        "      <th>Gestation</th>\n",
        "      <th>Predation</th>\n",
        "      <th>Exposure</th>\n",
        "      <th>Danger</th>\n",
        "    </tr>\n",
        "  </thead>\n",
        "  <tbody>\n",
        "    <tr>\n",
        "      <th>1</th>\n",
        "      <td> Africangiantpouchedrat</td>\n",
        "      <td>    1.000</td>\n",
        "      <td>    6.6</td>\n",
        "      <td>  6.3</td>\n",
        "      <td> 2.0</td>\n",
        "      <td>  8.3</td>\n",
        "      <td>  4.5</td>\n",
        "      <td>  42</td>\n",
        "      <td> 3</td>\n",
        "      <td> 1</td>\n",
        "      <td> 3</td>\n",
        "    </tr>\n",
        "    <tr>\n",
        "      <th>4</th>\n",
        "      <td>          Asianelephant</td>\n",
        "      <td> 2547.000</td>\n",
        "      <td> 4603.0</td>\n",
        "      <td>  2.1</td>\n",
        "      <td> 1.8</td>\n",
        "      <td>  3.9</td>\n",
        "      <td> 69.0</td>\n",
        "      <td> 624</td>\n",
        "      <td> 3</td>\n",
        "      <td> 5</td>\n",
        "      <td> 4</td>\n",
        "    </tr>\n",
        "    <tr>\n",
        "      <th>5</th>\n",
        "      <td>                 Baboon</td>\n",
        "      <td>   10.550</td>\n",
        "      <td>  179.5</td>\n",
        "      <td>  9.1</td>\n",
        "      <td> 0.7</td>\n",
        "      <td>  9.8</td>\n",
        "      <td> 27.0</td>\n",
        "      <td> 180</td>\n",
        "      <td> 4</td>\n",
        "      <td> 4</td>\n",
        "      <td> 4</td>\n",
        "    </tr>\n",
        "    <tr>\n",
        "      <th>6</th>\n",
        "      <td>            Bigbrownbat</td>\n",
        "      <td>    0.023</td>\n",
        "      <td>    0.3</td>\n",
        "      <td> 15.8</td>\n",
        "      <td> 3.9</td>\n",
        "      <td> 19.7</td>\n",
        "      <td> 19.0</td>\n",
        "      <td>  35</td>\n",
        "      <td> 1</td>\n",
        "      <td> 1</td>\n",
        "      <td> 1</td>\n",
        "    </tr>\n",
        "    <tr>\n",
        "      <th>7</th>\n",
        "      <td>         Braziliantapir</td>\n",
        "      <td>  160.000</td>\n",
        "      <td>  169.0</td>\n",
        "      <td>  5.2</td>\n",
        "      <td> 1.0</td>\n",
        "      <td>  6.2</td>\n",
        "      <td> 30.4</td>\n",
        "      <td> 392</td>\n",
        "      <td> 4</td>\n",
        "      <td> 5</td>\n",
        "      <td> 4</td>\n",
        "    </tr>\n",
        "  </tbody>\n",
        "</table>\n",
        "</div>"
       ],
       "metadata": {},
       "output_type": "pyout",
       "prompt_number": 10,
       "text": [
        "                  Species    BodyWt  BrainWt  NonDreaming  Dreaming  \\\n",
        "1  Africangiantpouchedrat     1.000      6.6          6.3       2.0   \n",
        "4           Asianelephant  2547.000   4603.0          2.1       1.8   \n",
        "5                  Baboon    10.550    179.5          9.1       0.7   \n",
        "6             Bigbrownbat     0.023      0.3         15.8       3.9   \n",
        "7          Braziliantapir   160.000    169.0          5.2       1.0   \n",
        "\n",
        "   TotalSleep  LifeSpan  Gestation  Predation  Exposure  Danger  \n",
        "1         8.3       4.5         42          3         1       3  \n",
        "4         3.9      69.0        624          3         5       4  \n",
        "5         9.8      27.0        180          4         4       4  \n",
        "6        19.7      19.0         35          1         1       1  \n",
        "7         6.2      30.4        392          4         5       4  "
       ]
      }
     ],
     "prompt_number": 10
    },
    {
     "cell_type": "markdown",
     "metadata": {},
     "source": [
      "# Tidy data\n",
      "\n",
      "Most of the tools we will use throughout this course expect your data to be in a format that we will call *tidy data* (after Wickham, 2013):\n",
      "\n",
      "<img src=\"pics_for_lectures/tidy_data.png\">\n",
      "\n",
      "All of the datasets we have provided follow this format. It can also be called a \"long format\" data frame, because it tends to be longer (rows) than it is wide (columns). \n",
      "\n",
      "As an example of a *wide* (i.e. *untidy*) data frame, imagine that we measured three peoples' heights, once at time one and once at time two:"
     ]
    },
    {
     "cell_type": "code",
     "collapsed": false,
     "input": [
      "heights = pd.DataFrame({'person': ['Jim', 'Sally', 'Meg'],\n",
      "                        't1': [120, 123, 118],\n",
      "                        't2': [152, 147, 153]})\n",
      "heights"
     ],
     "language": "python",
     "metadata": {},
     "outputs": [
      {
       "html": [
        "<div style=\"max-height:1000px;max-width:1500px;overflow:auto;\">\n",
        "<table border=\"1\" class=\"dataframe\">\n",
        "  <thead>\n",
        "    <tr style=\"text-align: right;\">\n",
        "      <th></th>\n",
        "      <th>person</th>\n",
        "      <th>t1</th>\n",
        "      <th>t2</th>\n",
        "    </tr>\n",
        "  </thead>\n",
        "  <tbody>\n",
        "    <tr>\n",
        "      <th>0</th>\n",
        "      <td>   Jim</td>\n",
        "      <td> 120</td>\n",
        "      <td> 152</td>\n",
        "    </tr>\n",
        "    <tr>\n",
        "      <th>1</th>\n",
        "      <td> Sally</td>\n",
        "      <td> 123</td>\n",
        "      <td> 147</td>\n",
        "    </tr>\n",
        "    <tr>\n",
        "      <th>2</th>\n",
        "      <td>   Meg</td>\n",
        "      <td> 118</td>\n",
        "      <td> 153</td>\n",
        "    </tr>\n",
        "  </tbody>\n",
        "</table>\n",
        "</div>"
       ],
       "metadata": {},
       "output_type": "pyout",
       "prompt_number": 11,
       "text": [
        "  person   t1   t2\n",
        "0    Jim  120  152\n",
        "1  Sally  123  147\n",
        "2    Meg  118  153"
       ]
      }
     ],
     "prompt_number": 11
    },
    {
     "cell_type": "markdown",
     "metadata": {},
     "source": [
      "Do you see how the columns `t1` and `t2` are mixing up what should be one variable (time) with two levels (t1 and t2)? While a data frame like this can be useful in some circumstances, in general it makes things harder. \n",
      "\n",
      "Thankfully, we can easily reshape wide dataframes into long dataframes using Pandas' `melt` function:"
     ]
    },
    {
     "cell_type": "code",
     "collapsed": false,
     "input": [
      "tidy = pd.melt(heights, id_vars='person', \n",
      "               var_name='time', value_name='height')\n",
      "tidy"
     ],
     "language": "python",
     "metadata": {},
     "outputs": [
      {
       "html": [
        "<div style=\"max-height:1000px;max-width:1500px;overflow:auto;\">\n",
        "<table border=\"1\" class=\"dataframe\">\n",
        "  <thead>\n",
        "    <tr style=\"text-align: right;\">\n",
        "      <th></th>\n",
        "      <th>person</th>\n",
        "      <th>time</th>\n",
        "      <th>height</th>\n",
        "    </tr>\n",
        "  </thead>\n",
        "  <tbody>\n",
        "    <tr>\n",
        "      <th>0</th>\n",
        "      <td>   Jim</td>\n",
        "      <td> t1</td>\n",
        "      <td> 120</td>\n",
        "    </tr>\n",
        "    <tr>\n",
        "      <th>1</th>\n",
        "      <td> Sally</td>\n",
        "      <td> t1</td>\n",
        "      <td> 123</td>\n",
        "    </tr>\n",
        "    <tr>\n",
        "      <th>2</th>\n",
        "      <td>   Meg</td>\n",
        "      <td> t1</td>\n",
        "      <td> 118</td>\n",
        "    </tr>\n",
        "    <tr>\n",
        "      <th>3</th>\n",
        "      <td>   Jim</td>\n",
        "      <td> t2</td>\n",
        "      <td> 152</td>\n",
        "    </tr>\n",
        "    <tr>\n",
        "      <th>4</th>\n",
        "      <td> Sally</td>\n",
        "      <td> t2</td>\n",
        "      <td> 147</td>\n",
        "    </tr>\n",
        "    <tr>\n",
        "      <th>5</th>\n",
        "      <td>   Meg</td>\n",
        "      <td> t2</td>\n",
        "      <td> 153</td>\n",
        "    </tr>\n",
        "  </tbody>\n",
        "</table>\n",
        "</div>"
       ],
       "metadata": {},
       "output_type": "pyout",
       "prompt_number": 12,
       "text": [
        "  person time  height\n",
        "0    Jim   t1     120\n",
        "1  Sally   t1     123\n",
        "2    Meg   t1     118\n",
        "3    Jim   t2     152\n",
        "4  Sally   t2     147\n",
        "5    Meg   t2     153"
       ]
      }
     ],
     "prompt_number": 12
    },
    {
     "cell_type": "markdown",
     "metadata": {},
     "source": [
      "You can find out more about how you can reshape datasets in Pandas, including aggregating values using pivot tables, in the [documentation on reshaping](http://pandas.pydata.org/pandas-docs/stable/reshaping.html)."
     ]
    },
    {
     "cell_type": "markdown",
     "metadata": {
      "slideshow": {
       "slide_type": "slide"
      }
     },
     "source": [
      "# Exploratory plots\n",
      "\n",
      "Now we have only the complete cases, let's look at two variables of interest by using the Seaborn plotting package. "
     ]
    },
    {
     "cell_type": "code",
     "collapsed": false,
     "input": [
      "# simple histogram of Total sleep:\n",
      "vec = sleep['TotalSleep']\n",
      "g = sns.distplot(vec)\n",
      "sns.despine(ax=g, offset=10);    "
     ],
     "language": "python",
     "metadata": {},
     "outputs": [
      {
       "metadata": {
        "png": {
         "height": 283,
         "width": 389
        }
       },
       "output_type": "display_data",
       "png": "[encoded data removed]",
       "text": [
        "<matplotlib.figure.Figure at 0x10c6c2da0>"
       ]
      }
     ],
     "prompt_number": 13
    },
    {
     "cell_type": "code",
     "collapsed": false,
     "input": [
      "# the jointplot function can be used to set up a subplot grid:\n",
      "g = sns.jointplot(\"BodyWt\", \"TotalSleep\", sleep); "
     ],
     "language": "python",
     "metadata": {
      "slideshow": {
       "slide_type": "fragment"
      }
     },
     "outputs": [
      {
       "metadata": {
        "png": {
         "height": 426,
         "width": 423
        }
       },
       "output_type": "display_data",
       "png": "[encoded data removed]",
       "text": [
        "<matplotlib.figure.Figure at 0x10c69aac8>"
       ]
      }
     ],
     "prompt_number": 14
    },
    {
     "cell_type": "markdown",
     "metadata": {
      "slideshow": {
       "slide_type": "fragment"
      }
     },
     "source": [
      "We can see that the body weight variable is extremely skewed. It ranges from near zero (0.005 kg for the Lesser Short-Tailed Shrew) up to nearly 2.5 tonnes (for the Asian Elephant):"
     ]
    },
    {
     "cell_type": "code",
     "collapsed": false,
     "input": [
      "sleep['Species'][sleep['BodyWt']==sleep['BodyWt'].min()]"
     ],
     "language": "python",
     "metadata": {
      "slideshow": {
       "slide_type": "skip"
      }
     },
     "outputs": [
      {
       "metadata": {},
       "output_type": "pyout",
       "prompt_number": 15,
       "text": [
        "31    Lessershort-tailedshrew\n",
        "Name: Species, dtype: object"
       ]
      }
     ],
     "prompt_number": 15
    },
    {
     "cell_type": "code",
     "collapsed": false,
     "input": [
      "sleep['Species'][sleep['BodyWt']==sleep['BodyWt'].max()]"
     ],
     "language": "python",
     "metadata": {
      "slideshow": {
       "slide_type": "skip"
      }
     },
     "outputs": [
      {
       "metadata": {},
       "output_type": "pyout",
       "prompt_number": 16,
       "text": [
        "4    Asianelephant\n",
        "Name: Species, dtype: object"
       ]
      }
     ],
     "prompt_number": 16
    },
    {
     "cell_type": "code",
     "collapsed": false,
     "input": [
      "sleep['BodyWt'].describe()  # use the describe method on the variable BodyWt"
     ],
     "language": "python",
     "metadata": {
      "slideshow": {
       "slide_type": "fragment"
      }
     },
     "outputs": [
      {
       "metadata": {},
       "output_type": "pyout",
       "prompt_number": 17,
       "text": [
        "count      42.000000\n",
        "mean      100.813905\n",
        "std       402.082389\n",
        "min         0.005000\n",
        "25%         0.316250\n",
        "50%         2.250000\n",
        "75%        10.412500\n",
        "max      2547.000000\n",
        "Name: BodyWt, dtype: float64"
       ]
      }
     ],
     "prompt_number": 17
    },
    {
     "cell_type": "markdown",
     "metadata": {
      "slideshow": {
       "slide_type": "slide"
      }
     },
     "source": [
      "# Indexing Pandas dataframes\n",
      "\n",
      "For the next step in our exploratory analysis, we want to access variables in our `sleep` dataframe.\n",
      "\n",
      "There are a number of ways to access subsets of a Pandas dataframe; an overview can be found on the [10 minutes to Pandas website](http://pandas.pydata.org/pandas-docs/stable/10min.html#getting). We will concentrate here on selecting single variables (columns).\n"
     ]
    },
    {
     "cell_type": "code",
     "collapsed": false,
     "input": [
      "sleep['BodyWt']  # prints the column of \"bodyweight\" variable."
     ],
     "language": "python",
     "metadata": {
      "slideshow": {
       "slide_type": "fragment"
      }
     },
     "outputs": [
      {
       "metadata": {},
       "output_type": "pyout",
       "prompt_number": 18,
       "text": [
        "1        1.000\n",
        "4     2547.000\n",
        "5       10.550\n",
        "6        0.023\n",
        "7      160.000\n",
        "8        3.300\n",
        "9       52.160\n",
        "10       0.425\n",
        "11     465.000\n",
        "14       0.075\n",
        "15       3.000\n",
        "16       0.785\n",
        "17       0.200\n",
        "21      27.660\n",
        "22       0.120\n",
        "24      85.000\n",
        "26       0.101\n",
        "27       1.040\n",
        "28     521.000\n",
        "31       0.005\n",
        "32       0.010\n",
        "33      62.000\n",
        "36       0.023\n",
        "37       0.048\n",
        "38       1.700\n",
        "39       3.500\n",
        "41       0.480\n",
        "42      10.000\n",
        "43       1.620\n",
        "44     192.000\n",
        "45       2.500\n",
        "47       0.280\n",
        "48       4.235\n",
        "49       6.800\n",
        "50       0.750\n",
        "51       3.600\n",
        "53      55.500\n",
        "56       0.900\n",
        "57       2.000\n",
        "58       0.104\n",
        "59       4.190\n",
        "60       3.500\n",
        "Name: BodyWt, dtype: float64"
       ]
      }
     ],
     "prompt_number": 18
    },
    {
     "cell_type": "code",
     "collapsed": false,
     "input": [
      "sleep['BodyWt'][0:3]  # the first three rows of the bodyweight variable"
     ],
     "language": "python",
     "metadata": {
      "slideshow": {
       "slide_type": "slide"
      }
     },
     "outputs": [
      {
       "metadata": {},
       "output_type": "pyout",
       "prompt_number": 19,
       "text": [
        "1       1.00\n",
        "4    2547.00\n",
        "5      10.55\n",
        "Name: BodyWt, dtype: float64"
       ]
      }
     ],
     "prompt_number": 19
    },
    {
     "cell_type": "code",
     "collapsed": false,
     "input": [
      "# Boolean indexing. All bodyweights of animals with less than 6 hours of sleep:\n",
      "sleep['BodyWt'][sleep['TotalSleep'] < 6]  "
     ],
     "language": "python",
     "metadata": {
      "slideshow": {
       "slide_type": "fragment"
      }
     },
     "outputs": [
      {
       "metadata": {},
       "output_type": "pyout",
       "prompt_number": 20,
       "text": [
        "4     2547.00\n",
        "11     465.00\n",
        "21      27.66\n",
        "28     521.00\n",
        "51       3.60\n",
        "53      55.50\n",
        "57       2.00\n",
        "Name: BodyWt, dtype: float64"
       ]
      }
     ],
     "prompt_number": 20
    },
    {
     "cell_type": "markdown",
     "metadata": {
      "slideshow": {
       "slide_type": "slide"
      }
     },
     "source": [
      "# Variable transforms\n",
      "\n",
      "- Linear bodyweight is extremely skewed; this complicates data analysis\n",
      "- It makes sense to consider the log of body weight instead\n",
      "- We can create a new variable of log bodyweight."
     ]
    },
    {
     "cell_type": "code",
     "collapsed": false,
     "input": [
      "sleep['log_BodyWt'] = np.log(sleep['BodyWt'])\n",
      "sleep['log_BodyWt'].describe()"
     ],
     "language": "python",
     "metadata": {
      "slideshow": {
       "slide_type": "fragment"
      }
     },
     "outputs": [
      {
       "metadata": {},
       "output_type": "pyout",
       "prompt_number": 21,
       "text": [
        "count    42.000000\n",
        "mean      0.803995\n",
        "std       3.069388\n",
        "min      -5.298317\n",
        "25%      -1.168641\n",
        "50%       0.804719\n",
        "75%       2.342741\n",
        "max       7.842671\n",
        "Name: log_BodyWt, dtype: float64"
       ]
      }
     ],
     "prompt_number": 21
    },
    {
     "cell_type": "code",
     "collapsed": false,
     "input": [
      "sleep.info()"
     ],
     "language": "python",
     "metadata": {},
     "outputs": [
      {
       "output_type": "stream",
       "stream": "stdout",
       "text": [
        "<class 'pandas.core.frame.DataFrame'>\n",
        "Int64Index: 42 entries, 1 to 60\n",
        "Data columns (total 12 columns):\n",
        "Species        42 non-null object\n",
        "BodyWt         42 non-null float64\n",
        "BrainWt        42 non-null float64\n",
        "NonDreaming    42 non-null float64\n",
        "Dreaming       42 non-null float64\n",
        "TotalSleep     42 non-null float64\n",
        "LifeSpan       42 non-null float64\n",
        "Gestation      42 non-null float64\n",
        "Predation      42 non-null int64\n",
        "Exposure       42 non-null int64\n",
        "Danger         42 non-null int64\n",
        "log_BodyWt     42 non-null float64\n",
        "dtypes: float64(8), int64(3), object(1)\n",
        "memory usage: 4.3+ KB\n"
       ]
      }
     ],
     "prompt_number": 22
    },
    {
     "cell_type": "code",
     "collapsed": false,
     "input": [
      "g = sns.jointplot(\"log_BodyWt\", \"TotalSleep\", sleep)"
     ],
     "language": "python",
     "metadata": {},
     "outputs": [
      {
       "metadata": {
        "png": {
         "height": 426,
         "width": 423
        }
       },
       "output_type": "display_data",
       "png": "[encoded data removed]",
       "text": [
        "<matplotlib.figure.Figure at 0x10c726390>"
       ]
      }
     ],
     "prompt_number": 23
    },
    {
     "cell_type": "markdown",
     "metadata": {},
     "source": [
      "Now we see a much nicer and more linear spread of the data. Heavier animals seem to sleep for less hours."
     ]
    },
    {
     "cell_type": "markdown",
     "metadata": {},
     "source": [
      "# Grouped plots\n",
      "\n",
      "The sleep in mammals dataset contains a number of other variables. For example, the variable `Danger` is an ordinal scale variable, ranging from 1 (\"least danger from other animals\") to 5 (\"most danger from other animals\").\n",
      "\n",
      "Does the total time spent sleeping change according to danger?"
     ]
    },
    {
     "cell_type": "code",
     "collapsed": false,
     "input": [
      "g = sns.violinplot(sleep['TotalSleep'], groupby=sleep['Danger'])\n",
      "sns.despine(ax=g, offset=10);"
     ],
     "language": "python",
     "metadata": {},
     "outputs": [
      {
       "metadata": {
        "png": {
         "height": 283,
         "width": 391
        }
       },
       "output_type": "display_data",
       "png": "[encoded data removed]",
       "text": [
        "<matplotlib.figure.Figure at 0x10e71d0f0>"
       ]
      }
     ],
     "prompt_number": 24
    },
    {
     "cell_type": "markdown",
     "metadata": {},
     "source": [
      "Out of interest, let's find which animals are in the highest and lowest danger categories:"
     ]
    },
    {
     "cell_type": "code",
     "collapsed": false,
     "input": [
      "sleep['Species'][sleep['Danger']==1]"
     ],
     "language": "python",
     "metadata": {},
     "outputs": [
      {
       "metadata": {},
       "output_type": "pyout",
       "prompt_number": 25,
       "text": [
        "6              Bigbrownbat\n",
        "8                      Cat\n",
        "9               Chimpanzee\n",
        "14     EasternAmericanmole\n",
        "24                Grayseal\n",
        "32          Littlebrownbat\n",
        "33                     Man\n",
        "38        NAmericanopossum\n",
        "39    Nine-bandedarmadillo\n",
        "48                  Redfox\n",
        "60            Wateropossum\n",
        "Name: Species, dtype: object"
       ]
      }
     ],
     "prompt_number": 25
    },
    {
     "cell_type": "code",
     "collapsed": false,
     "input": [
      "sleep['Species'][sleep['Danger']==5]"
     ],
     "language": "python",
     "metadata": {},
     "outputs": [
      {
       "metadata": {},
       "output_type": "pyout",
       "prompt_number": 26,
       "text": [
        "11       Cow\n",
        "21      Goat\n",
        "28     Horse\n",
        "45    Rabbit\n",
        "53     Sheep\n",
        "Name: Species, dtype: object"
       ]
      }
     ],
     "prompt_number": 26
    },
    {
     "cell_type": "markdown",
     "metadata": {},
     "source": [
      "# Faceted subplots\n",
      "\n",
      "Seaborn allows us to easily visualise 2D plots across various groups by *faceting* plots in rows and columns according to categorical variables.\n",
      "\n",
      "For example, we could ask: Does the relationship between total sleep time and bodyweight depend on danger level?"
     ]
    },
    {
     "cell_type": "code",
     "collapsed": false,
     "input": [
      "g = sns.FacetGrid(sleep, col=\"Danger\", col_wrap=3)\n",
      "g.map(plt.scatter, 'log_BodyWt', 'TotalSleep');"
     ],
     "language": "python",
     "metadata": {},
     "outputs": [
      {
       "metadata": {
        "png": {
         "height": 427,
         "width": 641
        }
       },
       "output_type": "display_data",
       "png": "[encoded data removed]",
       "text": [
        "<matplotlib.figure.Figure at 0x10e7357f0>"
       ]
      }
     ],
     "prompt_number": 27
    },
    {
     "cell_type": "markdown",
     "metadata": {},
     "source": [
      "# Go forth and explore!\n",
      "\n",
      "Seaborn and Pandas allow you to do very powerful data manipulation and exploratory plots in relatively few lines of code. In this lecture we've provided a taste of what you can do. We encourage you to use this code, to check out more examples on the [Seaborn website](http://stanford.edu/~mwaskom/software/seaborn/tutorial.html), and to get in and play around with our data or your own.\n",
      "\n",
      "Don't be dismayed that errors are frequent. Learning to use these packages will be a lot of trial and error / hacking around / internet searchs. The rewards for your research will be worthwhile."
     ]
    },
    {
     "cell_type": "code",
     "collapsed": false,
     "input": [
      "from IPython.core.display import HTML\n",
      "\n",
      "\n",
      "def css_styling():\n",
      "    styles = open(\"../custom_style.css\", \"r\").read()\n",
      "    return HTML(styles)\n",
      "css_styling()"
     ],
     "language": "python",
     "metadata": {},
     "outputs": [
      {
       "html": [
        "<style>\n",
        "    @font-face {\n",
        "        font-family: \"Computer Modern\";\n",
        "        src: url('http://9dbb143991406a7c655e-aa5fcb0a5a4ec34cff238a2d56ca4144.r56.cf5.rackcdn.com/cmunss.otf');\n",
        "    }\n",
        "    @font-face {\n",
        "        font-family: \"Computer Modern\";\n",
        "        font-weight: bold;\n",
        "        src: url('http://9dbb143991406a7c655e-aa5fcb0a5a4ec34cff238a2d56ca4144.r56.cf5.rackcdn.com/cmunsx.otf');\n",
        "    }\n",
        "    @font-face {\n",
        "        font-family: \"Computer Modern\";\n",
        "        font-style: oblique;\n",
        "        src: url('http://9dbb143991406a7c655e-aa5fcb0a5a4ec34cff238a2d56ca4144.r56.cf5.rackcdn.com/cmunsi.otf');\n",
        "    }\n",
        "    @font-face {\n",
        "        font-family: \"Computer Modern\";\n",
        "        font-weight: bold;\n",
        "        font-style: oblique;\n",
        "        src: url('http://9dbb143991406a7c655e-aa5fcb0a5a4ec34cff238a2d56ca4144.r56.cf5.rackcdn.com/cmunso.otf');\n",
        "    }\n",
        "    div.cell{\n",
        "        width:850px;\n",
        "        font-size: 11pt;\n",
        "        margin-left:16% !important;\n",
        "        margin-right:auto;\n",
        "    }\n",
        "    h1 {\n",
        "        font-family: Minion Pro, serif;\n",
        "    }\n",
        "    h2 {\n",
        "        font-family: Minion Pro, serif;\n",
        "    }\n",
        "    h3 {\n",
        "        font-family: Minion Pro, serif;\n",
        "    }\n",
        "    h4{\n",
        "        margin-top:12px;\n",
        "        margin-bottom: 3px;\n",
        "       }\n",
        "    div.text_cell_render{\n",
        "        font-family: Optima, sans-serif;\n",
        "        line-height: 145%;\n",
        "        font-size: 12pt;\n",
        "        width:850px;\n",
        "        margin-left:auto;\n",
        "        margin-right:auto;\n",
        "    }\n",
        "    .CodeMirror{\n",
        "            font-family: \"Source Code Pro\", source-code-pro,Consolas, monospace;\n",
        "    }\n",
        "    .prompt{\n",
        "        display: None;\n",
        "    }\n",
        "    .text_cell_render h5 {\n",
        "        font-weight: 300;\n",
        "        font-size: 12pt;\n",
        "        color: #4057A1;\n",
        "        font-style: italic;\n",
        "        margin-bottom: .5em;\n",
        "        margin-top: 0.5em;\n",
        "        display: block;\n",
        "    }\n",
        "\n",
        "    .warning{\n",
        "        color: rgb( 240, 20, 20 )\n",
        "        }\n",
        "</style>\n",
        "<script>\n",
        "    MathJax.Hub.Config({\n",
        "                        TeX: {\n",
        "                           extensions: [\"AMSmath.js\"]\n",
        "                           },\n",
        "                tex2jax: {\n",
        "                    inlineMath: [ ['$','$'], [\"\\\\(\",\"\\\\)\"] ],\n",
        "                    displayMath: [ ['$$','$$'], [\"\\\\[\",\"\\\\]\"] ]\n",
        "                },\n",
        "                displayAlign: 'center', // Change this to 'center' to center equations.\n",
        "                \"HTML-CSS\": {\n",
        "                    styles: {'.MathJax_Display': {\"margin\": 4}}\n",
        "                }\n",
        "        });\n",
        "</script>"
       ],
       "metadata": {},
       "output_type": "pyout",
       "prompt_number": 2,
       "text": [
        "<IPython.core.display.HTML at 0x106e4d6a0>"
       ]
      }
     ],
     "prompt_number": 2
    }
   ],
   "metadata": {}
  }
 ]
}
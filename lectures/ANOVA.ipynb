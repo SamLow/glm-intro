{
 "metadata": {
  "name": "",
  "signature": "sha256:45e2c11c36161e59d75823948a1e838d993b77e12a76c43bc2785df1486b9b7a"
 },
 "nbformat": 3,
 "nbformat_minor": 0,
 "worksheets": [
  {
   "cells": [
    {
     "cell_type": "markdown",
     "metadata": {},
     "source": [
      "# The Generalised Linear Model and ANOVA\n",
      "\n",
      "[Tom Wallis](http://www.tomwallis.info) and [Philipp Berens](http://philippberens.wordpress.com/)\n",
      "\n",
      "The University of T\u00fcbingen"
     ]
    },
    {
     "cell_type": "code",
     "collapsed": false,
     "input": [
      "import numpy as np\n",
      "import pandas as pd\n",
      "import patsy\n",
      "import seaborn as sns\n",
      "import statsmodels.formula.api as smf\n",
      "import statsmodels.stats as sms\n",
      "import matplotlib.pyplot as plt\n",
      "\n",
      "%matplotlib inline\n",
      "\n",
      "sns.set_style(\"white\")"
     ],
     "language": "python",
     "metadata": {},
     "outputs": [],
     "prompt_number": 21
    },
    {
     "cell_type": "markdown",
     "metadata": {},
     "source": [
      "# Introduction\n",
      "\n",
      "The analysis of variance (ANOVA) is typically used to \"*learn the relative importance of different sources of variation in a dataset*\" (see Gelman & Hill, Chapter 22). Recall that when we think about regression models, we ask questions like: \n",
      "\n",
      "**What is our prediction for distance flown given paper and design?**\n",
      "\n",
      "The ANOVA for the same model fit focuses on a slightly different question:\n",
      "\n",
      "**How much of the variance in distance flown is associated with changes in paper and design?**\n",
      "\n",
      "ANOVA can be thought of as *breaking up* the total variance in the response into (a) how much variance is associated with each independent variable in our design and (b) the remaining *error* or *residual* variance. "
     ]
    },
    {
     "cell_type": "code",
     "collapsed": false,
     "input": [
      "# for this demonstration we will use the *planes* example because it's balanced.\n",
      "\n",
      "# read in the data, rename some values:\n",
      "planes = pd.read_csv('../Datasets/planes.txt', sep='\\t')\n",
      "\n",
      "# column names to lowercase:\n",
      "planes.columns = [c.lower() for c in planes.columns]\n",
      "\n",
      "# turn \"paper\" variable into an object, not int64:\n",
      "planes['paper'] = planes['paper'].astype(object)\n",
      "\n",
      "planes.replace(to_replace={'paper': {1: '80',\n",
      "                                     2: '50'},\n",
      "                           'angle': {1: 'horz',\n",
      "                                     2: '45deg '},\n",
      "                           'plane': {1: 'sleek',\n",
      "                                     2: 'simple'}}, \n",
      "                inplace=True)\n",
      "\n",
      "# convert distance into meters for ease of SSR:\n",
      "planes['distance'] = planes['distance'] / 1000\n",
      "\n",
      "# rename \"plane\" to \"design\":\n",
      "planes = planes.rename(columns={'plane': 'design'})\n",
      "\n",
      "# planes is a balanced dataset (same number of cases in each cell):\n",
      "planes.groupby(['paper', 'design']).size()"
     ],
     "language": "python",
     "metadata": {},
     "outputs": [
      {
       "metadata": {},
       "output_type": "pyout",
       "prompt_number": 23,
       "text": [
        "paper  design\n",
        "50     simple    4\n",
        "       sleek     4\n",
        "80     simple    4\n",
        "       sleek     4\n",
        "dtype: int64"
       ]
      }
     ],
     "prompt_number": 23
    },
    {
     "cell_type": "markdown",
     "metadata": {},
     "source": [
      "# ANOVA as model comparison between nested models\n",
      "\n",
      "Recall for the planes data we are interested in the effects of `design` and `paper` on distance. This is a $2 \\times 2$ factorial design. We can think about all the possible models here as a series of nested models. That is, each simpler model is a subset of the most complex model (the model with all main effects and interactions). We can visualise this in a diagram (adapted from [1]):\n",
      "\n",
      "<img src='pics_for_lectures/pics_for_lectures.002.png'>\n",
      "\n",
      "In the diagram, the arrows indicate a differencing of the sum of squared residuals (SSR). The SSR for the upper model (with more parameters, and thus a lower SSR) is subtracted from the SSR of the lower model. This difference score gives the change in SS associated with the new predictor.\n",
      "\n",
      "Notice that there are actually two comparisons here that speak to the \"main effects\" of `paper` (in red) and `design` (in blue). These correspond to different hypotheses. Let's consider the test for `paper`. The first comparison (red text, right side of figure) tests whether paper has an effect *ignoring* design. This is usually called the **main effect** of paper. The second comparison (red text, left side of figure) tests whether adding paper changes the residuals *after discounting the variance due to design*. This corresponds to the SS for the **simple effects** of paper (in an interaction model, we also add the SS from the interaction term -- see [2], p.433).\n",
      "\n",
      "The `planes` dataset we use here is an example of a *balanced design*. Balanced designs have an equal number of observations in each cell (four planes were thrown in each combination of `paper` and `design`). It turns out that in balanced designs, the main effects and the sum of simple effects give the same answer. That's because they're just different ways to divide up the total sum of squares. When we have unbalanced data however, it matters which comparison you do (see Types of Sums of Squares, below). "
     ]
    },
    {
     "cell_type": "markdown",
     "metadata": {},
     "source": [
      "# Orthogonal contrasts\n",
      "\n",
      "When we do ANOVA, we are breaking up the total variance from the grand mean into subgroups of variance. To do this in a way that makes sense, we need to code categorical variables in a way that is independent of the other columns. These are called *orthogonal contrasts*. \n",
      "\n",
      "What is an orthogonal contrast? Intuitively, in a design matrix of orthogonal contrasts, the overall effect of one column is independent of the other columns. Mathematically, two columns of a design matrix are orthogonal if their product sums to zero.\n",
      "\n",
      "Throughout this course so far, recall that we have coded categorical variables using *treatment* or *dummy* coding. In this case, the Intercept term is the mean of one of the subgroups in the design (the *reference* level) and all other coefficients give deflections from this reference level. Are treatment contrasts orthogonal?\n"
     ]
    },
    {
     "cell_type": "code",
     "collapsed": false,
     "input": [
      "X = patsy.dmatrix('~ design * paper', planes)\n",
      "X"
     ],
     "language": "python",
     "metadata": {},
     "outputs": [
      {
       "metadata": {},
       "output_type": "pyout",
       "prompt_number": 24,
       "text": [
        "DesignMatrix with shape (16, 4)\n",
        "  Intercept  design[T.sleek]  paper[T.80]  design[T.sleek]:paper[T.80]\n",
        "          1                1            1                            1\n",
        "          1                1            1                            1\n",
        "          1                0            1                            0\n",
        "          1                0            1                            0\n",
        "          1                1            1                            1\n",
        "          1                1            1                            1\n",
        "          1                0            1                            0\n",
        "          1                0            1                            0\n",
        "          1                1            0                            0\n",
        "          1                1            0                            0\n",
        "          1                0            0                            0\n",
        "          1                0            0                            0\n",
        "          1                1            0                            0\n",
        "          1                1            0                            0\n",
        "          1                0            0                            0\n",
        "          1                0            0                            0\n",
        "  Terms:\n",
        "    'Intercept' (column 0)\n",
        "    'design' (column 1)\n",
        "    'paper' (column 2)\n",
        "    'design:paper' (column 3)"
       ]
      }
     ],
     "prompt_number": 24
    },
    {
     "cell_type": "code",
     "collapsed": false,
     "input": [
      "# example for coefficients of design and paper:\n",
      "np.sum(X[:, 1] * X[:, 2])"
     ],
     "language": "python",
     "metadata": {},
     "outputs": [
      {
       "metadata": {},
       "output_type": "pyout",
       "prompt_number": 25,
       "text": [
        "array(4.0)"
       ]
      }
     ],
     "prompt_number": 25
    },
    {
     "cell_type": "markdown",
     "metadata": {},
     "source": [
      "So in the *treatment* contrasts regime, we're not using orthogonal contrasts (the sum of the product of the columns is not zero). Therefore ANOVAs done with these design matrices become hard or impossible to interpret.\n",
      "\n",
      "The fix for this is easy: we can tell Patsy to code our categorical variables using orthogonal contrasts. The most common of these is Sum coding, in which the values for each category sum to one. This means that the coefficients in the regression represent *deviations* from the overall mean across the category levels. There are a number of other contrasts available in Patsy, which can test different hypotheses about the variables. See [here](http://statsmodels.sourceforge.net/devel/contrasts.html), [here](http://www.ats.ucla.edu/stat/r/library/contrast_coding.htm) and [here](http://talklab.psy.gla.ac.uk/tvw/catpred/) for further reading.\n",
      "\n",
      "What does the design matrix look like for sum coding?"
     ]
    },
    {
     "cell_type": "code",
     "collapsed": false,
     "input": [
      "X = patsy.dmatrix('~ C(design, Sum) * C(paper, Sum)', planes)\n",
      "print(X)"
     ],
     "language": "python",
     "metadata": {},
     "outputs": [
      {
       "output_type": "stream",
       "stream": "stdout",
       "text": [
        "[[ 1. -1. -1.  1.]\n",
        " [ 1. -1. -1.  1.]\n",
        " [ 1.  1. -1. -1.]\n",
        " [ 1.  1. -1. -1.]\n",
        " [ 1. -1. -1.  1.]\n",
        " [ 1. -1. -1.  1.]\n",
        " [ 1.  1. -1. -1.]\n",
        " [ 1.  1. -1. -1.]\n",
        " [ 1. -1.  1. -1.]\n",
        " [ 1. -1.  1. -1.]\n",
        " [ 1.  1.  1.  1.]\n",
        " [ 1.  1.  1.  1.]\n",
        " [ 1. -1.  1. -1.]\n",
        " [ 1. -1.  1. -1.]\n",
        " [ 1.  1.  1.  1.]\n",
        " [ 1.  1.  1.  1.]]\n"
       ]
      }
     ],
     "prompt_number": 26
    },
    {
     "cell_type": "markdown",
     "metadata": {},
     "source": [
      "Instead of our levels being either 0 or 1, they're now either -1 or 1. Now, the sum over our contrast columns is zero (note the intercept is not a contrast, so does not sum to zero), and their cross products are all zero:"
     ]
    },
    {
     "cell_type": "code",
     "collapsed": false,
     "input": [
      "print('sum of columns = ' + str(X.sum(axis=0)))\n",
      "print('sum of products of design and paper = ' + str((X[:, 1] * X[:, 2]).sum()))\n",
      "print('sum of products of design and interaction = ' + str((X[:, 1] * X[:, 3]).sum()))"
     ],
     "language": "python",
     "metadata": {},
     "outputs": [
      {
       "output_type": "stream",
       "stream": "stdout",
       "text": [
        "sum of columns = [ 16.   0.   0.   0.]\n",
        "sum of products of design and paper = 0.0\n",
        "sum of products of design and interaction = 0.0\n"
       ]
      }
     ],
     "prompt_number": 27
    },
    {
     "cell_type": "markdown",
     "metadata": {},
     "source": [
      "Using these orthogonal contrasts, let's fit the model and look at the ANOVA table:"
     ]
    },
    {
     "cell_type": "code",
     "collapsed": false,
     "input": [
      "fit_full = smf.ols('distance ~ C(design, Sum) * C(paper, Sum)', planes).fit()\n",
      "print(fit_full.summary())"
     ],
     "language": "python",
     "metadata": {},
     "outputs": [
      {
       "output_type": "stream",
       "stream": "stdout",
       "text": [
        "                            OLS Regression Results                            \n",
        "==============================================================================\n",
        "Dep. Variable:               distance   R-squared:                       0.727\n",
        "Model:                            OLS   Adj. R-squared:                  0.659\n",
        "Method:                 Least Squares   F-statistic:                     10.66\n",
        "Date:                Tue, 24 Feb 2015   Prob (F-statistic):            0.00106\n",
        "Time:                        20:51:51   Log-Likelihood:                -18.584\n",
        "No. Observations:                  16   AIC:                             45.17\n",
        "Df Residuals:                      12   BIC:                             48.26\n",
        "Df Model:                           3                                         \n",
        "Covariance Type:            nonrobust                                         \n",
        "================================================================================================================\n",
        "                                                   coef    std err          t      P>|t|      [95.0% Conf. Int.]\n",
        "----------------------------------------------------------------------------------------------------------------\n",
        "Intercept                                        3.6853      0.223     16.514      0.000         3.199     4.171\n",
        "C(design, Sum)[S.simple]                        -0.1552      0.223     -0.696      0.500        -0.641     0.331\n",
        "C(paper, Sum)[S.50]                              0.3277      0.223      1.469      0.168        -0.158     0.814\n",
        "C(design, Sum)[S.simple]:C(paper, Sum)[S.50]    -1.2090      0.223     -5.418      0.000        -1.695    -0.723\n",
        "==============================================================================\n",
        "Omnibus:                        0.751   Durbin-Watson:                   2.909\n",
        "Prob(Omnibus):                  0.687   Jarque-Bera (JB):                0.745\n",
        "Skew:                           0.359   Prob(JB):                        0.689\n",
        "Kurtosis:                       2.224   Cond. No.                         1.00\n",
        "==============================================================================\n",
        "\n",
        "Warnings:\n",
        "[1] Standard Errors assume that the covariance matrix of the errors is correctly specified.\n"
       ]
      }
     ],
     "prompt_number": 28
    },
    {
     "cell_type": "markdown",
     "metadata": {},
     "source": [
      "What do the coefficients mean? The intercept coefficient is now the grand mean of distance (recall that in the Treatment contrast regime it was the mean distance when the design was \"simple\" and the paper weight was \"50\"):"
     ]
    },
    {
     "cell_type": "code",
     "collapsed": false,
     "input": [
      "np.round(planes['distance'].mean(), decimals=4)"
     ],
     "language": "python",
     "metadata": {},
     "outputs": [
      {
       "metadata": {},
       "output_type": "pyout",
       "prompt_number": 29,
       "text": [
        "3.6852"
       ]
      }
     ],
     "prompt_number": 29
    },
    {
     "cell_type": "markdown",
     "metadata": {},
     "source": [
      "The coefficient values for the contrasts tell us the average deviations from this grand mean for each category:"
     ]
    },
    {
     "cell_type": "code",
     "collapsed": false,
     "input": [
      "# example for design:\n",
      "print(fit_full.params[0] + fit_full.params[1])  # model prediction for simple\n",
      "print(fit_full.params[0] + -1*fit_full.params[1])  # model prediction for sleek\n",
      "print('\\n\\n Actual Means:')\n",
      "print(planes.groupby('design').distance.mean())  # actual means"
     ],
     "language": "python",
     "metadata": {},
     "outputs": [
      {
       "output_type": "stream",
       "stream": "stdout",
       "text": [
        "3.53\n",
        "3.8405\n",
        "\n",
        "\n",
        " Actual Means:\n",
        "design\n",
        "simple    3.5300\n",
        "sleek     3.8405\n",
        "Name: distance, dtype: float64\n"
       ]
      }
     ],
     "prompt_number": 30
    },
    {
     "cell_type": "markdown",
     "metadata": {},
     "source": [
      "## ANOVA table for this model"
     ]
    },
    {
     "cell_type": "code",
     "collapsed": false,
     "input": [
      "anova_table = sms.anova.anova_lm(fit_full) # type I SS by default; same answer in this case\n",
      "print(anova_table)  "
     ],
     "language": "python",
     "metadata": {},
     "outputs": [
      {
       "output_type": "stream",
       "stream": "stdout",
       "text": [
        "                              df     sum_sq    mean_sq          F    PR(>F)\n",
        "C(design, Sum)                 1   0.385641   0.385641   0.484016  0.499861\n",
        "C(paper, Sum)                  1   1.718721   1.718721   2.157158  0.167628\n",
        "C(design, Sum):C(paper, Sum)   1  23.386896  23.386896  29.352777  0.000156\n",
        "Residual                      12   9.561029   0.796752        NaN       NaN\n"
       ]
      }
     ],
     "prompt_number": 31
    },
    {
     "cell_type": "markdown",
     "metadata": {},
     "source": [
      "## Relating the ANOVA table to nested model comparisons\n",
      "\n",
      "Recall that above we talked about ANOVA as a comparison of nested models. I'll reproduce the diagram here:\n",
      "\n",
      "<img src='pics_for_lectures/pics_for_lectures.002.png'>\n",
      "\n",
      "We can produce all the sums of squares from the ANOVA table by computing the relevant change in residual (error) sum of squares for each model.\n",
      "\n",
      "### Fit all models in the diagram"
     ]
    },
    {
     "cell_type": "code",
     "collapsed": false,
     "input": [
      "# fit all the models in the tree\n",
      "null = smf.ols('distance ~ 1', planes).fit()\n",
      "design = smf.ols('distance ~ C(design, Sum)', planes).fit()\n",
      "paper = smf.ols('distance ~ C(paper, Sum)', planes).fit()\n",
      "additive = smf.ols('distance ~ C(design, Sum) + C(paper, Sum)', planes).fit()\n",
      "full = smf.ols('distance ~ C(design, Sum) * C(paper, Sum)', planes).fit()"
     ],
     "language": "python",
     "metadata": {},
     "outputs": [],
     "prompt_number": 32
    },
    {
     "cell_type": "markdown",
     "metadata": {},
     "source": [
      "### The null model represents the total sum of squared residuals"
     ]
    },
    {
     "cell_type": "code",
     "collapsed": false,
     "input": [
      "print(null.summary())"
     ],
     "language": "python",
     "metadata": {},
     "outputs": [
      {
       "output_type": "stream",
       "stream": "stdout",
       "text": [
        "                            OLS Regression Results                            \n",
        "==============================================================================\n",
        "Dep. Variable:               distance   R-squared:                       0.000\n",
        "Model:                            OLS   Adj. R-squared:                  0.000\n",
        "Method:                 Least Squares   F-statistic:                       nan\n",
        "Date:                Tue, 24 Feb 2015   Prob (F-statistic):                nan\n",
        "Time:                        20:51:51   Log-Likelihood:                -28.977\n",
        "No. Observations:                  16   AIC:                             59.95\n",
        "Df Residuals:                      15   BIC:                             60.73\n",
        "Df Model:                           0                                         \n",
        "Covariance Type:            nonrobust                                         \n",
        "==============================================================================\n",
        "                 coef    std err          t      P>|t|      [95.0% Conf. Int.]\n",
        "------------------------------------------------------------------------------\n",
        "Intercept      3.6853      0.382      9.643      0.000         2.871     4.500\n",
        "==============================================================================\n",
        "Omnibus:                        0.701   Durbin-Watson:                   1.723\n",
        "Prob(Omnibus):                  0.704   Jarque-Bera (JB):                0.714\n",
        "Skew:                           0.351   Prob(JB):                        0.700\n",
        "Kurtosis:                       2.239   Cond. No.                         1.00\n",
        "==============================================================================\n",
        "\n",
        "Warnings:\n",
        "[1] Standard Errors assume that the covariance matrix of the errors is correctly specified.\n"
       ]
      }
     ],
     "prompt_number": 33
    },
    {
     "cell_type": "markdown",
     "metadata": {},
     "source": [
      "This model explains 0% of the variance in the data. Because it's predicting every data point to be the mean, the residual variance is equal to the total variance:"
     ]
    },
    {
     "cell_type": "code",
     "collapsed": false,
     "input": [
      "null.mse_total  # mean squared error total"
     ],
     "language": "python",
     "metadata": {},
     "outputs": [
      {
       "metadata": {},
       "output_type": "pyout",
       "prompt_number": 34,
       "text": [
        "2.336819133333333"
       ]
      }
     ],
     "prompt_number": 34
    },
    {
     "cell_type": "code",
     "collapsed": false,
     "input": [
      "null.mse_resid"
     ],
     "language": "python",
     "metadata": {},
     "outputs": [
      {
       "metadata": {},
       "output_type": "pyout",
       "prompt_number": 35,
       "text": [
        "2.336819133333333"
       ]
      }
     ],
     "prompt_number": 35
    },
    {
     "cell_type": "code",
     "collapsed": false,
     "input": [
      "# this is the same as the variance in distance:\n",
      "planes['distance'].var()"
     ],
     "language": "python",
     "metadata": {},
     "outputs": [
      {
       "metadata": {},
       "output_type": "pyout",
       "prompt_number": 36,
       "text": [
        "2.3368191333333317"
       ]
      }
     ],
     "prompt_number": 36
    },
    {
     "cell_type": "code",
     "collapsed": false,
     "input": [
      "# let's calculate the sum of squared residuals manually:\n",
      "res = planes['distance'] - null.predict() # absolute residuals (difference between data and prediction)\n",
      "res = res ** 2  # squared residuals\n",
      "res.sum()"
     ],
     "language": "python",
     "metadata": {},
     "outputs": [
      {
       "metadata": {},
       "output_type": "pyout",
       "prompt_number": 37,
       "text": [
        "35.052286999999993"
       ]
      }
     ],
     "prompt_number": 37
    },
    {
     "cell_type": "code",
     "collapsed": false,
     "input": [
      "# the ssr is also contained in the model object:\n",
      "null.ssr"
     ],
     "language": "python",
     "metadata": {},
     "outputs": [
      {
       "metadata": {},
       "output_type": "pyout",
       "prompt_number": 38,
       "text": [
        "35.052286999999993"
       ]
      }
     ],
     "prompt_number": 38
    },
    {
     "cell_type": "markdown",
     "metadata": {},
     "source": [
      "### Main effect of design\n",
      "\n",
      "Recall that the SS for each model term can be calculated by comparing the change in the residual sum of squares for nested models. We do that here:"
     ]
    },
    {
     "cell_type": "code",
     "collapsed": false,
     "input": [
      "## Main effect of design, ignoring paper:\n",
      "print(null.ssr - design.ssr)\n",
      "\n",
      "## sum of simple effects of design, eliminating paper:\n",
      "print(paper.ssr - additive.ssr)\n",
      "\n",
      "## main effect from ANOVA table:\n",
      "print(anova_table['sum_sq'][0])"
     ],
     "language": "python",
     "metadata": {},
     "outputs": [
      {
       "output_type": "stream",
       "stream": "stdout",
       "text": [
        "0.385641\n",
        "0.385641\n",
        "0.385641\n"
       ]
      }
     ],
     "prompt_number": 39
    },
    {
     "cell_type": "markdown",
     "metadata": {},
     "source": [
      "### Main effect of paper"
     ]
    },
    {
     "cell_type": "code",
     "collapsed": false,
     "input": [
      "## Main effect of paper, ignoring design:\n",
      "print(null.ssr - paper.ssr)\n",
      "\n",
      "## sum of simple effects of paper, eliminating design:\n",
      "print(design.ssr - additive.ssr)\n",
      "\n",
      "## main effect from ANOVA table:\n",
      "print(anova_table['sum_sq'][1])"
     ],
     "language": "python",
     "metadata": {},
     "outputs": [
      {
       "output_type": "stream",
       "stream": "stdout",
       "text": [
        "1.718721\n",
        "1.718721\n",
        "1.718721\n"
       ]
      }
     ],
     "prompt_number": 40
    },
    {
     "cell_type": "markdown",
     "metadata": {},
     "source": [
      "### Interaction effect"
     ]
    },
    {
     "cell_type": "code",
     "collapsed": false,
     "input": [
      "# interaction term:\n",
      "print(additive.ssr - full.ssr)\n",
      "\n",
      "## interaction effect from ANOVA table:\n",
      "print(anova_table['sum_sq'][2])"
     ],
     "language": "python",
     "metadata": {},
     "outputs": [
      {
       "output_type": "stream",
       "stream": "stdout",
       "text": [
        "23.386896\n",
        "23.386896\n"
       ]
      }
     ],
     "prompt_number": 41
    },
    {
     "cell_type": "markdown",
     "metadata": {},
     "source": [
      "# Partitioning of residuals, variance explained\n",
      "\n",
      "As we add terms to the model, the residual sum of squares gets lower. It turns out that for any model, its $R^2$ (the coefficient of determination) is given by the proportion of the variance explained, relative to the null model:"
     ]
    },
    {
     "cell_type": "code",
     "collapsed": false,
     "input": [
      "# e.g. for full model:\n",
      "print(full.summary())"
     ],
     "language": "python",
     "metadata": {},
     "outputs": [
      {
       "output_type": "stream",
       "stream": "stdout",
       "text": [
        "                            OLS Regression Results                            \n",
        "==============================================================================\n",
        "Dep. Variable:               distance   R-squared:                       0.727\n",
        "Model:                            OLS   Adj. R-squared:                  0.659\n",
        "Method:                 Least Squares   F-statistic:                     10.66\n",
        "Date:                Tue, 24 Feb 2015   Prob (F-statistic):            0.00106\n",
        "Time:                        20:51:51   Log-Likelihood:                -18.584\n",
        "No. Observations:                  16   AIC:                             45.17\n",
        "Df Residuals:                      12   BIC:                             48.26\n",
        "Df Model:                           3                                         \n",
        "Covariance Type:            nonrobust                                         \n",
        "================================================================================================================\n",
        "                                                   coef    std err          t      P>|t|      [95.0% Conf. Int.]\n",
        "----------------------------------------------------------------------------------------------------------------\n",
        "Intercept                                        3.6853      0.223     16.514      0.000         3.199     4.171\n",
        "C(design, Sum)[S.simple]                        -0.1552      0.223     -0.696      0.500        -0.641     0.331\n",
        "C(paper, Sum)[S.50]                              0.3277      0.223      1.469      0.168        -0.158     0.814\n",
        "C(design, Sum)[S.simple]:C(paper, Sum)[S.50]    -1.2090      0.223     -5.418      0.000        -1.695    -0.723\n",
        "==============================================================================\n",
        "Omnibus:                        0.751   Durbin-Watson:                   2.909\n",
        "Prob(Omnibus):                  0.687   Jarque-Bera (JB):                0.745\n",
        "Skew:                           0.359   Prob(JB):                        0.689\n",
        "Kurtosis:                       2.224   Cond. No.                         1.00\n",
        "==============================================================================\n",
        "\n",
        "Warnings:\n",
        "[1] Standard Errors assume that the covariance matrix of the errors is correctly specified.\n"
       ]
      }
     ],
     "prompt_number": 42
    },
    {
     "cell_type": "code",
     "collapsed": false,
     "input": [
      "diff = null.ssr - full.ssr\n",
      "# express as a proportion of the total (null model) residual:\n",
      "prop = diff / null.ssr\n",
      "print(prop)"
     ],
     "language": "python",
     "metadata": {},
     "outputs": [
      {
       "output_type": "stream",
       "stream": "stdout",
       "text": [
        "0.727235230044\n"
       ]
      }
     ],
     "prompt_number": 43
    },
    {
     "cell_type": "code",
     "collapsed": false,
     "input": [
      "# same as R-squared:\n",
      "print(full.rsquared)"
     ],
     "language": "python",
     "metadata": {},
     "outputs": [
      {
       "output_type": "stream",
       "stream": "stdout",
       "text": [
        "0.727235230044\n"
       ]
      }
     ],
     "prompt_number": 44
    },
    {
     "cell_type": "markdown",
     "metadata": {},
     "source": [
      "# F-tests and t-tests\n",
      "\n",
      "As you may know from your basic statistics courses, the sum of squares for each term is divided by how many parameters were estimated for that term (the degrees of freedom added) to give the mean squared column, and then the ratio between the change and the amount of remaining error gives the F-statistic. This can then be tested against the F-distribution (with `model, error` degrees of freedom) for significance."
     ]
    },
    {
     "cell_type": "code",
     "collapsed": false,
     "input": [
      "print(anova_table)"
     ],
     "language": "python",
     "metadata": {},
     "outputs": [
      {
       "output_type": "stream",
       "stream": "stdout",
       "text": [
        "                              df     sum_sq    mean_sq          F    PR(>F)\n",
        "C(design, Sum)                 1   0.385641   0.385641   0.484016  0.499861\n",
        "C(paper, Sum)                  1   1.718721   1.718721   2.157158  0.167628\n",
        "C(design, Sum):C(paper, Sum)   1  23.386896  23.386896  29.352777  0.000156\n",
        "Residual                      12   9.561029   0.796752        NaN       NaN\n"
       ]
      }
     ],
     "prompt_number": 45
    },
    {
     "cell_type": "markdown",
     "metadata": {},
     "source": [
      "Consider the regression table for the full model above. How are the t-statistics related to the F-values for the model terms? \n",
      "\n",
      "In the $2 \\times 2$ design here, the t-tests are equivalent to the F-tests for the factors... their values are the square roots of the F-values (i.e. $F = t^2$)"
     ]
    },
    {
     "cell_type": "code",
     "collapsed": false,
     "input": [
      "full.tvalues[1:] **2"
     ],
     "language": "python",
     "metadata": {},
     "outputs": [
      {
       "metadata": {},
       "output_type": "pyout",
       "prompt_number": 46,
       "text": [
        "C(design, Sum)[S.simple]                         0.484016\n",
        "C(paper, Sum)[S.50]                              2.157158\n",
        "C(design, Sum)[S.simple]:C(paper, Sum)[S.50]    29.352777\n",
        "dtype: float64"
       ]
      }
     ],
     "prompt_number": 46
    },
    {
     "cell_type": "code",
     "collapsed": false,
     "input": [
      "print(anova_table['F'])"
     ],
     "language": "python",
     "metadata": {},
     "outputs": [
      {
       "output_type": "stream",
       "stream": "stdout",
       "text": [
        "C(design, Sum)                   0.484016\n",
        "C(paper, Sum)                    2.157158\n",
        "C(design, Sum):C(paper, Sum)    29.352777\n",
        "Residual                              NaN\n",
        "Name: F, dtype: float64\n"
       ]
      }
     ],
     "prompt_number": 47
    },
    {
     "cell_type": "markdown",
     "metadata": {},
     "source": [
      "# One way to visualise variance partitioning\n",
      "\n",
      "Recall that when we do ANOVA, we're partitioning the total variance into the variance associated with each factor, and that this is equivalent to nested model comparison. We can visualise this as a pie chart:"
     ]
    },
    {
     "cell_type": "code",
     "collapsed": false,
     "input": [
      "# plot the explained variances as a pie chart:\n",
      "labels = 'design', 'paper', 'interaction', 'residual'\n",
      "sizes = anova_table['sum_sq']\n",
      "colors = ['yellowgreen', 'gold', 'lightskyblue', 'lightcoral']\n",
      "plt.pie(sizes, labels=labels,\n",
      "        autopct='%1.0f%%',\n",
      "        colors=colors,\n",
      "        startangle=90)\n",
      "# Set aspect ratio to be equal so that pie is drawn as a circle.\n",
      "plt.axis('equal')\n",
      "plt.show()  "
     ],
     "language": "python",
     "metadata": {},
     "outputs": [
      {
       "metadata": {
        "png": {
         "height": 253,
         "width": 349
        }
       },
       "output_type": "display_data",
       "png": "[encoded data removed]",
       "text": [
        "<matplotlib.figure.Figure at 0x10c6c3550>"
       ]
      }
     ],
     "prompt_number": 48
    },
    {
     "cell_type": "markdown",
     "metadata": {},
     "source": [
      "Notice how the residual error variance is 27%. This is $100 - R^2$. "
     ]
    },
    {
     "cell_type": "markdown",
     "metadata": {},
     "source": [
      "## Aside: Types of Sums of Squares\n",
      "\n",
      "In unbalanced designs, the \"Types of Sums of Squares\" become relevant. The different Types of Sums of Squares (Type I, II, III...) basically correspond to different ways to compare models up and down the graph diagram shown above. That is, they correspond to different nested model comparisons -- and with unbalanced data, it matters which comparisons you do.\n",
      "\n",
      "A complete discussion of the different sums of squares is beyond what we want to cover in this course. For some starter reading, see [here](http://goanna.cs.rmit.edu.au/~fscholer/anova.php), [here](http://www.uni-kiel.de/psychologie/dwoll/r/ssTypes.php). \n",
      "\n",
      "The main thing we want to emphasise is: **ANOVA is about model comparison**. Think about what hypotheses make sense to test for your dataset."
     ]
    },
    {
     "cell_type": "markdown",
     "metadata": {},
     "source": [
      "# ANOVA as model comparison: summary\n",
      "\n",
      "We've provided here a brief overview of one way to think about ANOVA: it's comparing the incremental change in the sum of squared residuals as you add terms to the model. In this sense, ANOVA is about **model comparison**, using the change in residuals to decide whether a term is important. \n",
      "\n",
      "F-ratios are not the only way we could compare the models. ANOVAs are just a historically popular way to do model comparison -- mainly because they are computable by hand. One advantage of thinking about ANOVAs as model comparisons is that once you understand the idea, it's easier to think how to use other types of comparisons.\n",
      "\n",
      "For example, if we wanted to emphasise parsimonious models (i.e. keeping the number of parameters low), we could consider using an information criterion like the [AIC](https://en.wikipedia.org/wiki/Akaike_information_criterion) or [BIC](https://en.wikipedia.org/wiki/Bayesian_information_criterion) to compare the models. The structure of the comparisons and their hypotheses are the same, however. For a comprehensive treatment of this type of model comparison, see [3].\n",
      "\n",
      "Another possibility is using *regularisation* -- we fit the model but penalise the fit for having many coefficients far from zero. For example, [*Lasso regression*](http://statweb.stanford.edu/~tibs/lasso.html) (also called L1 norm regression) penalises the sum of the coefficients from growing too large. This has the effect of setting many coefficients to zero -- i.e. removing those terms from the model. This is equivalent to using a model lower down the nesting hierarchy drawn above.\n"
     ]
    },
    {
     "cell_type": "markdown",
     "metadata": {},
     "source": [
      "# ANOVA in GLMs\n",
      "\n",
      "We've demonstrated ANOVA for the linear model. The concepts inherent in ANOVA can be extended to Generalised Linear Models with non-Gaussian errors and non-identity link functions. To do this, we need to consider a generalisation of the squared residuals, called the *deviance*. \n",
      "\n",
      "The *deviance* is the difference in log likelihood (i.e. the likelihood of the data under the model) between a *saturated* model (that contains a parameter for every data point, and thus predicts the data perfectly) and the model in question. Intuitively, think of *deviance* as the \"amount by which our model predictions *deviate* from a perfect prediction\". In the Gaussian + identity model, the deviance reduces to the sum of squared residuals:"
     ]
    },
    {
     "cell_type": "code",
     "collapsed": false,
     "input": [
      "# anova table from interaction model:\n",
      "print(anova_table)"
     ],
     "language": "python",
     "metadata": {},
     "outputs": [
      {
       "output_type": "stream",
       "stream": "stdout",
       "text": [
        "                              df     sum_sq    mean_sq          F    PR(>F)\n",
        "C(design, Sum)                 1   0.385641   0.385641   0.484016  0.499861\n",
        "C(paper, Sum)                  1   1.718721   1.718721   2.157158  0.167628\n",
        "C(design, Sum):C(paper, Sum)   1  23.386896  23.386896  29.352777  0.000156\n",
        "Residual                      12   9.561029   0.796752        NaN       NaN\n"
       ]
      }
     ],
     "prompt_number": 49
    },
    {
     "cell_type": "code",
     "collapsed": false,
     "input": [
      "# summary table from GLM fit:\n",
      "fit_glm = smf.glm('distance ~ C(design, Sum) * C(paper, Sum)', planes).fit()\n",
      "print(fit_glm.deviance)"
     ],
     "language": "python",
     "metadata": {},
     "outputs": [
      {
       "output_type": "stream",
       "stream": "stdout",
       "text": [
        "9.561029\n"
       ]
      }
     ],
     "prompt_number": 50
    },
    {
     "cell_type": "markdown",
     "metadata": {},
     "source": [
      "For GLMs with non-Gaussian errors and non-identity link functions, ANOVA becomes \"Analysis of Deviance\", but the conceptual principles remain the same. We perform nested model comparison, comparing how the deviance is reduced by adding terms to the model.\n",
      "\n",
      "Unfortunately Statsmodels has not implemented analysis of deviance as a function yet (as of version `0.6.1`), so it's not as straightforward to do as in the linear model cases outlined above. However, analysis of deviance can be easily performed in [R](https://stat.ethz.ch/R-manual/R-patched/library/stats/html/anova.glm.html) or [MATLAB](http://de.mathworks.com/help/stats/generalizedlinearmodel.deviancetest.html?refresh=true), or by hand in Statsmodels using model comparisons as before. Remember to take degrees of freedom into account."
     ]
    },
    {
     "cell_type": "markdown",
     "metadata": {},
     "source": [
      "# References\n",
      "\n",
      "[1] Venables, W. N. (1998). Exegeses on linear models. In S-Plus User\u2019s Conference, Washington DC. Retrieved from [here](http://www.sefsc.noaa.gov/sedar/download/S10RD01.pdf?id=DOCUMENT)\n",
      "\n",
      "[2] Howell, D. C. (2002). Statistical Methods for Psychology (5th Edition).\n",
      "\n",
      "[3] Burnham, K. P., & Anderson, D. R. (2002). Model selection and multimodel inference: a practical information-theoretic approach. New York: Springer."
     ]
    },
    {
     "cell_type": "code",
     "collapsed": false,
     "input": [
      "from IPython.core.display import HTML\n",
      "\n",
      "\n",
      "def css_styling():\n",
      "    styles = open(\"../custom_style.css\", \"r\").read()\n",
      "    return HTML(styles)\n",
      "css_styling()"
     ],
     "language": "python",
     "metadata": {},
     "outputs": [
      {
       "html": [
        "<style>\n",
        "    @font-face {\n",
        "        font-family: \"Computer Modern\";\n",
        "        src: url('http://9dbb143991406a7c655e-aa5fcb0a5a4ec34cff238a2d56ca4144.r56.cf5.rackcdn.com/cmunss.otf');\n",
        "    }\n",
        "    @font-face {\n",
        "        font-family: \"Computer Modern\";\n",
        "        font-weight: bold;\n",
        "        src: url('http://9dbb143991406a7c655e-aa5fcb0a5a4ec34cff238a2d56ca4144.r56.cf5.rackcdn.com/cmunsx.otf');\n",
        "    }\n",
        "    @font-face {\n",
        "        font-family: \"Computer Modern\";\n",
        "        font-style: oblique;\n",
        "        src: url('http://9dbb143991406a7c655e-aa5fcb0a5a4ec34cff238a2d56ca4144.r56.cf5.rackcdn.com/cmunsi.otf');\n",
        "    }\n",
        "    @font-face {\n",
        "        font-family: \"Computer Modern\";\n",
        "        font-weight: bold;\n",
        "        font-style: oblique;\n",
        "        src: url('http://9dbb143991406a7c655e-aa5fcb0a5a4ec34cff238a2d56ca4144.r56.cf5.rackcdn.com/cmunso.otf');\n",
        "    }\n",
        "    div.cell{\n",
        "        width:850px;\n",
        "        font-size: 11pt;\n",
        "        margin-left:16% !important;\n",
        "        margin-right:auto;\n",
        "    }\n",
        "    h1 {\n",
        "        font-family: Minion Pro, serif;\n",
        "    }\n",
        "    h2 {\n",
        "        font-family: Minion Pro, serif;\n",
        "    }\n",
        "    h3 {\n",
        "        font-family: Minion Pro, serif;\n",
        "    }\n",
        "    h4{\n",
        "        margin-top:12px;\n",
        "        margin-bottom: 3px;\n",
        "       }\n",
        "    div.text_cell_render{\n",
        "        font-family: Optima, sans-serif;\n",
        "        line-height: 145%;\n",
        "        font-size: 12pt;\n",
        "        width:850px;\n",
        "        margin-left:auto;\n",
        "        margin-right:auto;\n",
        "    }\n",
        "    .CodeMirror{\n",
        "            font-family: \"Source Code Pro\", source-code-pro,Consolas, monospace;\n",
        "    }\n",
        "    .prompt{\n",
        "        display: None;\n",
        "    }\n",
        "    .text_cell_render h5 {\n",
        "        font-weight: 300;\n",
        "        font-size: 12pt;\n",
        "        color: #4057A1;\n",
        "        font-style: italic;\n",
        "        margin-bottom: .5em;\n",
        "        margin-top: 0.5em;\n",
        "        display: block;\n",
        "    }\n",
        "\n",
        "    .warning{\n",
        "        color: rgb( 240, 20, 20 )\n",
        "        }\n",
        "</style>\n",
        "<script>\n",
        "    MathJax.Hub.Config({\n",
        "                        TeX: {\n",
        "                           extensions: [\"AMSmath.js\"]\n",
        "                           },\n",
        "                tex2jax: {\n",
        "                    inlineMath: [ ['$','$'], [\"\\\\(\",\"\\\\)\"] ],\n",
        "                    displayMath: [ ['$$','$$'], [\"\\\\[\",\"\\\\]\"] ]\n",
        "                },\n",
        "                displayAlign: 'center', // Change this to 'center' to center equations.\n",
        "                \"HTML-CSS\": {\n",
        "                    styles: {'.MathJax_Display': {\"margin\": 4}}\n",
        "                }\n",
        "        });\n",
        "</script>"
       ],
       "metadata": {},
       "output_type": "pyout",
       "prompt_number": 1,
       "text": [
        "<IPython.core.display.HTML at 0x104d317b8>"
       ]
      }
     ],
     "prompt_number": 1
    }
   ],
   "metadata": {}
  }
 ]
}
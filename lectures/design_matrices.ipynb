{
 "metadata": {
  "name": "",
  "signature": "sha256:877e67f888b20d7d68aaa38d017ccdfb1f6c49d8c1d3b7b4760f3f253423809a"
 },
 "nbformat": 3,
 "nbformat_minor": 0,
 "worksheets": [
  {
   "cells": [
    {
     "cell_type": "markdown",
     "metadata": {
      "slideshow": {
       "slide_type": "slide"
      }
     },
     "source": [
      "# Introduction to design matrices\n",
      "\n",
      "[Tom Wallis](http://www.tomwallis.info) and [Philipp Berens](http://philippberens.wordpress.com/)\n",
      "\n",
      "\n",
      "The University of T\u00fcbingen\n"
     ]
    },
    {
     "cell_type": "code",
     "collapsed": false,
     "input": [
      "# import necessary modules:\n",
      "import numpy as np\n",
      "import pandas as pd\n",
      "import patsy\n",
      "import seaborn as sns\n",
      "import statsmodels.api as sm\n",
      "import statsmodels.formula.api as smf\n",
      "import statsmodels.stats as sm_stats\n",
      "import matplotlib.pyplot as plt\n",
      "\n",
      "%matplotlib inline\n",
      "\n",
      "sns.set_style(\"white\")"
     ],
     "language": "python",
     "metadata": {
      "slideshow": {
       "slide_type": "skip"
      }
     },
     "outputs": [],
     "prompt_number": 1
    },
    {
     "cell_type": "markdown",
     "metadata": {
      "slideshow": {
       "slide_type": "slide"
      }
     },
     "source": [
      "# Introduction\n",
      "\n",
      "The Generalised Linear Model (GLM) is a flexible way to combine different *predictor variables* to predict the value of a *response variable*. Many common statistical procedures are types of GLMs - t-tests, multiple regression, ANOVA, ANCOVA, etc. Furthermore, many more complicated statistical procedures are extensions of GLMs. An understanding of how GLMs work is therefore very useful."
     ]
    },
    {
     "cell_type": "markdown",
     "metadata": {
      "slideshow": {
       "slide_type": "slide"
      }
     },
     "source": [
      "In the next few lectures we want to provide an overview of how GLMs work, with some simple examples. In particular, we want you to understand\n",
      "  + how to build design matrices\n",
      "  + the meaning of coefficients in a design matrix\n",
      "  + what a link function is\n",
      "      \n",
      "      \n",
      "      \n",
      "      \n",
      "      "
     ]
    },
    {
     "cell_type": "markdown",
     "metadata": {
      "slideshow": {
       "slide_type": "slide"
      }
     },
     "source": [
      "# General form of the model\n",
      "\n",
      "The general form of a GLM can be written as \n",
      "\n",
      "$y = f(\\mathbf{X}\\beta) + \\epsilon$\n"
     ]
    },
    {
     "cell_type": "markdown",
     "metadata": {
      "slideshow": {
       "slide_type": "fragment"
      }
     },
     "source": [
      "- $\\mathbf{X}$: the design matrix, where columns are predictors, rows are observations\n",
      "\n",
      "- $y$ is the response variable we're trying to predict (a column vector)\n",
      "\n",
      "- $\\beta$ is a vector of weights, with the same length as the number of columns in the design matrix\n",
      "\n",
      "- $\\mathbf{X} \\beta$ is called the *linear predictor*\n",
      "\n",
      "- $f()$ is some transformation of the weighted design matrix (the link function). Examples include logistic, logarithmic, Poisson...\n",
      "\n",
      "- $\\epsilon$ is random noise of some type."
     ]
    },
    {
     "cell_type": "markdown",
     "metadata": {},
     "source": [
      "<img src=\"pics_for_lectures/pics_for_lectures.001.png\">"
     ]
    },
    {
     "cell_type": "markdown",
     "metadata": {
      "slideshow": {
       "slide_type": "slide"
      }
     },
     "source": [
      "Another way to write $\\mathbf{X}\\beta$ is in vector notation:\n",
      "\n",
      "$x_1\\beta_1 + x_2\\beta_2 + ... + x_n\\beta_n$\n",
      "\n",
      "- $x_n$ are column vectors\n",
      "- $\\beta_n$ is a scalar\n",
      "\n",
      "So the term $\\mathbf{X}\\beta$ is a linear weighted sum of predictors (i.e., it's a *linear* model). Let's look at a concrete example of this in action."
     ]
    },
    {
     "cell_type": "markdown",
     "metadata": {
      "slideshow": {
       "slide_type": "slide"
      }
     },
     "source": [
      "# Example: simple linear regression\n",
      "\n",
      "Let's go back to our \"Sleep in Mammals\" dataset from the dataframe / plotting lecture.\n",
      "\n",
      "First, we import the data, drop missing cases, and create our log bodyweight variable."
     ]
    },
    {
     "cell_type": "code",
     "collapsed": false,
     "input": [
      "# import the dataset csv file into a Pandas dataframe object:\n",
      "sleep = pd.read_csv('../Datasets/sleep.txt', sep='\\t') \n",
      "sleep = sleep.dropna(axis=0)  # drop on axis 0 (i.e. rows)\n",
      "sleep['log_BodyWt'] = np.log(sleep['BodyWt'])\n",
      "sleep.info()"
     ],
     "language": "python",
     "metadata": {
      "slideshow": {
       "slide_type": "fragment"
      }
     },
     "outputs": [
      {
       "output_type": "stream",
       "stream": "stdout",
       "text": [
        "<class 'pandas.core.frame.DataFrame'>\n",
        "Int64Index: 42 entries, 1 to 60\n",
        "Data columns (total 12 columns):\n",
        "Species        42 non-null object\n",
        "BodyWt         42 non-null float64\n",
        "BrainWt        42 non-null float64\n",
        "NonDreaming    42 non-null float64\n",
        "Dreaming       42 non-null float64\n",
        "TotalSleep     42 non-null float64\n",
        "LifeSpan       42 non-null float64\n",
        "Gestation      42 non-null float64\n",
        "Predation      42 non-null int64\n",
        "Exposure       42 non-null int64\n",
        "Danger         42 non-null int64\n",
        "log_BodyWt     42 non-null float64\n",
        "dtypes: float64(8), int64(3), object(1)\n",
        "memory usage: 4.3+ KB\n"
       ]
      }
     ],
     "prompt_number": 2
    },
    {
     "cell_type": "code",
     "collapsed": false,
     "input": [
      "g = sns.jointplot(\"log_BodyWt\", \"TotalSleep\", sleep)"
     ],
     "language": "python",
     "metadata": {},
     "outputs": [
      {
       "metadata": {
        "png": {
         "height": 426,
         "width": 423
        }
       },
       "output_type": "display_data",
       "png": "[encoded data removed]",
       "text": [
        "<matplotlib.figure.Figure at 0x10561eef0>"
       ]
      }
     ],
     "prompt_number": 3
    },
    {
     "cell_type": "markdown",
     "metadata": {},
     "source": [
      "We can see that the log of bodyweight seems to be related to TotalSleep approximately linearly (although the variance is higher for low bodyweights).\n",
      "\n",
      "**How many hours does a species of animal sleep on average, given its bodyweight?**\n",
      "\n",
      "To answer this question we can use a linear regression. We have a single *predictor* variable (the log of bodyweight) to predict our *response variable* of interest (Total hours of sleep). \n",
      "\n",
      "As you know from high school maths, the equation for a line can be written as $y = mx + c$. That is, we would like to estimate two parameters: the a slope as a function of $x$, and an intercept (the value of $y$ when $x$ is zero). "
     ]
    },
    {
     "cell_type": "markdown",
     "metadata": {},
     "source": [
      "# Design matrices\n",
      "\n",
      "The design matrix $\\mathbf X$ has *predictor variables* in its columns. Remember that we will estimate one parameter (the $\\beta$ weight) for *each column of the design matrix*. \n",
      "\n",
      "The design matrix is not necessarily just a copy of the columns in our data frame. Sometimes variables need to be transformed to have a certain meaning within the model. We can use a module called *Patsy* to create design matrices automatically from our specification of the model.\n",
      "\n",
      "## Patsy and *S*-style formulae\n",
      "\n",
      "The Patsy package allows us to specify the model we want to fit in a high-level formula language, based on the one used in the ancient *S* statistical language (and now more recently in *R*). \n",
      "\n",
      "Patsy allows us to specify\n",
      "\n",
      "- our model\n",
      "- the data frame containing the variables we want to use\n",
      "    \n",
      "and returns the design matrix $\\mathbf X$ (and optionally also $y$).\n",
      "\n",
      "Formulae have the general form `y ~ x`.\n",
      "\n",
      "- everthing to the left of the `~` character are the things we want to predict (response variable)\n",
      "- everything to the right are the predictors\n",
      "- we can use the names of variables in our data frame to make the code more readable\n",
      "\n",
      "To make this more concrete, let's look at an example for our linear regression above."
     ]
    },
    {
     "cell_type": "code",
     "collapsed": false,
     "input": [
      "# this command returns both X and y (hence \"dmatrices\" plural). See \"dmatrix\" if you just want X.\n",
      "y, X = patsy.dmatrices('TotalSleep ~ log_BodyWt', sleep)\n",
      "\n",
      "y"
     ],
     "language": "python",
     "metadata": {},
     "outputs": [
      {
       "metadata": {},
       "output_type": "pyout",
       "prompt_number": 4,
       "text": [
        "DesignMatrix with shape (42, 1)\n",
        "  TotalSleep\n",
        "         8.3\n",
        "         3.9\n",
        "         9.8\n",
        "        19.7\n",
        "         6.2\n",
        "        14.5\n",
        "         9.7\n",
        "        12.5\n",
        "         3.9\n",
        "         8.4\n",
        "         8.6\n",
        "        10.7\n",
        "        10.7\n",
        "         3.8\n",
        "        14.4\n",
        "         6.2\n",
        "        13.8\n",
        "         8.2\n",
        "         2.9\n",
        "         9.1\n",
        "        19.9\n",
        "         8.0\n",
        "        13.2\n",
        "        12.8\n",
        "        19.4\n",
        "        17.4\n",
        "        17.0\n",
        "        10.9\n",
        "        13.7\n",
        "         8.4\n",
        "  [12 rows omitted]\n",
        "  Terms:\n",
        "    'TotalSleep' (column 0)\n",
        "  (to view full data, use np.asarray(this_obj))"
       ]
      }
     ],
     "prompt_number": 4
    },
    {
     "cell_type": "markdown",
     "metadata": {},
     "source": [
      "`y` in this case is just the column vector of `TotalSleep`. What about `X`?"
     ]
    },
    {
     "cell_type": "code",
     "collapsed": false,
     "input": [
      "X"
     ],
     "language": "python",
     "metadata": {},
     "outputs": [
      {
       "metadata": {},
       "output_type": "pyout",
       "prompt_number": 5,
       "text": [
        "DesignMatrix with shape (42, 2)\n",
        "  Intercept  log_BodyWt\n",
        "          1     0.00000\n",
        "          1     7.84267\n",
        "          1     2.35613\n",
        "          1    -3.77226\n",
        "          1     5.07517\n",
        "          1     1.19392\n",
        "          1     3.95432\n",
        "          1    -0.85567\n",
        "          1     6.14204\n",
        "          1    -2.59027\n",
        "          1     1.09861\n",
        "          1    -0.24207\n",
        "          1    -1.60944\n",
        "          1     3.31999\n",
        "          1    -2.12026\n",
        "          1     4.44265\n",
        "          1    -2.29263\n",
        "          1     0.03922\n",
        "          1     6.25575\n",
        "          1    -5.29832\n",
        "          1    -4.60517\n",
        "          1     4.12713\n",
        "          1    -3.77226\n",
        "          1    -3.03655\n",
        "          1     0.53063\n",
        "          1     1.25276\n",
        "          1    -0.73397\n",
        "          1     2.30259\n",
        "          1     0.48243\n",
        "          1     5.25750\n",
        "  [12 rows omitted]\n",
        "  Terms:\n",
        "    'Intercept' (column 0)\n",
        "    'log_BodyWt' (column 1)\n",
        "  (to view full data, use np.asarray(this_obj))"
       ]
      }
     ],
     "prompt_number": 5
    },
    {
     "cell_type": "markdown",
     "metadata": {},
     "source": [
      "Note how the second column of `X` is just the log bodyweight values from our data frame. However, Patsy has added an additional column: the intercept, where each value is 1. What does this mean?\n",
      "\n",
      "When we do the regression, remember that we will estimate a $\\beta$ weight for each column, and that the value of the linear predictor for each row is $\\beta_1 x_1 + \\beta_2 x_2 + ... + \\beta_n x_n$. Thus, adding a column of ones to the design matrix means we are adding the value of $\\beta_1$ to each observation in our data set. This value is the *intercept term* ($c$) from our equation for a line, $y = mc + c$.\n",
      "\n",
      "So in our regression, our prediction for the total sleep of each observation will be\n",
      "\n",
      "$\\hat y = \\beta_1 + \\beta_2 \\mathrm{logBodyWt}$\n",
      "\n",
      "$\\beta_1$ and $\\beta_2$ are our model coefficents that will be estimated from the data. For now though, let's just think about them as two numbers that we're going to estimate by eye from the scatterplot above.\n",
      "\n",
      "When log bodyweight is zero, TotalSleep is about 12 hours. So let's set $\\beta_1 = 12$. Slope is a bit harder to estimate: I'm going to guess -4. Let's apply these weights to our design matrix to generate some predictions:"
     ]
    },
    {
     "cell_type": "code",
     "collapsed": false,
     "input": [
      "betas = np.array([12., -4.])   # the . after the number makes it a floating-point number rather than an integer.\n",
      "yhat = np.inner(X, betas)\n"
     ],
     "language": "python",
     "metadata": {},
     "outputs": [],
     "prompt_number": 6
    },
    {
     "cell_type": "markdown",
     "metadata": {},
     "source": [
      "Note that taking the inner product (with the command `np.inner`) of a matrix and a row vector is the same as multiplying each column by its corresponding beta weight and then summing (i.e. $\\beta_1 x_1 + \\beta_2 x_2$).\n",
      "\n",
      "How similar are our predictions against the true values?"
     ]
    },
    {
     "cell_type": "code",
     "collapsed": false,
     "input": [
      "# this plot uses straight matplotlib commands, not seaborn:\n",
      "plt.scatter(yhat, y)\n",
      "plt.plot((-30, 40), (-30, 40), c=\".2\", ls=\"--\");\n",
      "plt.xlabel('yhat (predicted)')\n",
      "plt.ylabel('y (real)')\n",
      "plt.show()"
     ],
     "language": "python",
     "metadata": {},
     "outputs": [
      {
       "metadata": {
        "png": {
         "height": 273,
         "width": 392
        }
       },
       "output_type": "display_data",
       "png": "[encoded data removed]",
       "text": [
        "<matplotlib.figure.Figure at 0x10cc79da0>"
       ]
      }
     ],
     "prompt_number": 7
    },
    {
     "cell_type": "markdown",
     "metadata": {},
     "source": [
      "From the scatterplot (with dashed identity line) you can see that I got the slope reasonably wrong. Let's compute the errors:"
     ]
    },
    {
     "cell_type": "code",
     "collapsed": false,
     "input": [
      "errors = y - yhat  # absolute errors for each data point\n",
      "squared_errors = errors ** 2  # squared errors\n",
      "sse = squared_errors.sum()  # sum of squared errors\n",
      "sse"
     ],
     "language": "python",
     "metadata": {},
     "outputs": [
      {
       "metadata": {},
       "output_type": "pyout",
       "prompt_number": 8,
       "text": [
        "array(303857.9545972171)"
       ]
      }
     ],
     "prompt_number": 8
    },
    {
     "cell_type": "markdown",
     "metadata": {},
     "source": [
      "# Statsmodels\n",
      "\n",
      "Now we can use the Statsmodels package to estimate the best coefficients from the data. We will fit it using statsmodels' GLM function."
     ]
    },
    {
     "cell_type": "code",
     "collapsed": false,
     "input": [
      "fit = sm.GLM(y, X).fit() # fit the design matrices we specified above using Patsy...\n",
      "# let's look at the fit summary:\n",
      "print(fit.summary())"
     ],
     "language": "python",
     "metadata": {},
     "outputs": [
      {
       "output_type": "stream",
       "stream": "stdout",
       "text": [
        "                 Generalized Linear Model Regression Results                  \n",
        "==============================================================================\n",
        "Dep. Variable:             TotalSleep   No. Observations:                   42\n",
        "Model:                            GLM   Df Residuals:                       40\n",
        "Model Family:                Gaussian   Df Model:                            1\n",
        "Link Function:               identity   Scale:                   14.0654402509\n",
        "Method:                          IRLS   Log-Likelihood:                -114.09\n",
        "Date:                Tue, 24 Feb 2015   Deviance:                       562.62\n",
        "Time:                        17:12:43   Pearson chi2:                     563.\n",
        "No. Iterations:                     4                                         \n",
        "==============================================================================\n",
        "                 coef    std err          z      P>|z|      [95.0% Conf. Int.]\n",
        "------------------------------------------------------------------------------\n",
        "Intercept     11.4046      0.599     19.049      0.000        10.231    12.578\n",
        "log_BodyWt    -0.9474      0.191     -4.965      0.000        -1.321    -0.573\n",
        "==============================================================================\n"
       ]
      }
     ],
     "prompt_number": 9
    },
    {
     "cell_type": "markdown",
     "metadata": {},
     "source": [
      "The above table shows the results of fitting the simple linear regression. There's a bunch of information here. Let's go through some of it.\n",
      "\n",
      "1. Note that we've fit a \"Gaussian\" model with the \"identity\" link function. That means we're doing ordinary linear regression, which as we said above is one case of the Generalised Linear Model. The identity link means that $f()$ (see above) is just the identity (i.e. it doesn't modify the linear predictor $\\mathbf X \\beta$ in any way).\n",
      "\n",
      "1. We had 42 observations (i.e. all the complete cases in our sleep set). The residual degrees of freedom equals the number of observations minus 2, because we estimated 2 parameters from the data (intercept and slope). \n",
      "\n",
      "1. The table at the bottom shows us information about the individual parameters we estimated. The coefficient value of the intercept is 11.4, which is pretty close to my guess of 12. The slope of log bodyweight is -0.95, so my slope estimate was pretty rubbish.\n",
      "\n",
      "1. The `z` score is the coefficient divided by its standard error, and the P value is testing whether that standardised coefficient score is different from zero. Both P values are highly significant here, so in this simple case we can infer that both parameters are contributing something useful to predicting the total amount of sleep. The final two columns give us the bounds of the confidence intervals on the coefficient estimates.\n",
      "\n",
      "Let's compare the predictions of this model to those of my guesses.\n"
     ]
    },
    {
     "cell_type": "code",
     "collapsed": false,
     "input": [
      "yhat_2 = fit.predict()\n",
      "\n",
      "# note that internally, the fit.predict() function does something similar \n",
      "# to our inner product between X and beta, above.\n",
      "\n",
      "plt.scatter(yhat_2, y)\n",
      "plt.plot((-30, 40), (-30, 40), c=\".2\", ls=\"--\");\n",
      "plt.xlabel('yhat_2 (predicted)')\n",
      "plt.ylabel('y (real)')\n",
      "plt.show()"
     ],
     "language": "python",
     "metadata": {},
     "outputs": [
      {
       "metadata": {
        "png": {
         "height": 273,
         "width": 392
        }
       },
       "output_type": "display_data",
       "png": "[encoded data removed]",
       "text": [
        "<matplotlib.figure.Figure at 0x10c96f7f0>"
       ]
      }
     ],
     "prompt_number": 10
    },
    {
     "cell_type": "code",
     "collapsed": false,
     "input": [
      "errors = y - yhat_2  # absolute errors for each data point\n",
      "squared_errors = errors ** 2  # squared errors\n",
      "sse2 = squared_errors.sum()  # sum of squared errors\n",
      "sse2"
     ],
     "language": "python",
     "metadata": {},
     "outputs": [
      {
       "metadata": {},
       "output_type": "pyout",
       "prompt_number": 11,
       "text": [
        "array(52753.18037853191)"
       ]
      }
     ],
     "prompt_number": 11
    },
    {
     "cell_type": "markdown",
     "metadata": {},
     "source": [
      "You can see that the fitted values are far closer to the data than my guesses... which is good."
     ]
    },
    {
     "cell_type": "markdown",
     "metadata": {},
     "source": [
      "### Statsmodels formula inputs\n",
      "\n",
      "Note that we could also do the same thing by passing our Patsy formula to Statsmodels directly, using the statsmodels formula input:"
     ]
    },
    {
     "cell_type": "code",
     "collapsed": true,
     "input": [
      "fit_2 = smf.glm(formula='TotalSleep ~ log_BodyWt', data=sleep).fit()\n",
      "print(fit_2.summary())"
     ],
     "language": "python",
     "metadata": {},
     "outputs": [
      {
       "output_type": "stream",
       "stream": "stdout",
       "text": [
        "                 Generalized Linear Model Regression Results                  \n",
        "==============================================================================\n",
        "Dep. Variable:             TotalSleep   No. Observations:                   42\n",
        "Model:                            GLM   Df Residuals:                       40\n",
        "Model Family:                Gaussian   Df Model:                            1\n",
        "Link Function:               identity   Scale:                   14.0654402509\n",
        "Method:                          IRLS   Log-Likelihood:                -114.09\n",
        "Date:                Tue, 24 Feb 2015   Deviance:                       562.62\n",
        "Time:                        17:12:44   Pearson chi2:                     563.\n",
        "No. Iterations:                     4                                         \n",
        "==============================================================================\n",
        "                 coef    std err          z      P>|z|      [95.0% Conf. Int.]\n",
        "------------------------------------------------------------------------------\n",
        "Intercept     11.4046      0.599     19.049      0.000        10.231    12.578\n",
        "log_BodyWt    -0.9474      0.191     -4.965      0.000        -1.321    -0.573\n",
        "==============================================================================\n"
       ]
      }
     ],
     "prompt_number": 12
    },
    {
     "cell_type": "markdown",
     "metadata": {},
     "source": [
      "# Graphically exploring model fit\n",
      "\n",
      "When fitting models, it's a good idea to look at graphical representations of model fit and the residuals (the distance between your predictions and your observations) to diagnose problems. Many plots of model fit are available in `Statsmodels`, at least for linear models (see [here](http://statsmodels.sourceforge.net/devel/examples/notebooks/generated/example_regression_plots.html)). \n",
      "\n",
      "We looked at one representation of the relationship between our model fits and the data above. Here are a few common plots."
     ]
    },
    {
     "cell_type": "code",
     "collapsed": false,
     "input": [
      "# first we add to the sleep data frame, make a data frame of the stuff we want to plot:\n",
      "plots_df = sleep[['TotalSleep', 'log_BodyWt']].copy()\n",
      "plots_df['yhat'] = fit.predict()\n",
      "plots_df['resids'] = plots_df['TotalSleep'] - plots_df['yhat']  \n",
      "# note the fit object also contains various residuals.\n",
      "plots_df.head()"
     ],
     "language": "python",
     "metadata": {},
     "outputs": [
      {
       "html": [
        "<div style=\"max-height:1000px;max-width:1500px;overflow:auto;\">\n",
        "<table border=\"1\" class=\"dataframe\">\n",
        "  <thead>\n",
        "    <tr style=\"text-align: right;\">\n",
        "      <th></th>\n",
        "      <th>TotalSleep</th>\n",
        "      <th>log_BodyWt</th>\n",
        "      <th>yhat</th>\n",
        "      <th>resids</th>\n",
        "    </tr>\n",
        "  </thead>\n",
        "  <tbody>\n",
        "    <tr>\n",
        "      <th>1</th>\n",
        "      <td>  8.3</td>\n",
        "      <td> 0.000000</td>\n",
        "      <td> 11.404567</td>\n",
        "      <td>-3.104567</td>\n",
        "    </tr>\n",
        "    <tr>\n",
        "      <th>4</th>\n",
        "      <td>  3.9</td>\n",
        "      <td> 7.842671</td>\n",
        "      <td>  3.974367</td>\n",
        "      <td>-0.074367</td>\n",
        "    </tr>\n",
        "    <tr>\n",
        "      <th>5</th>\n",
        "      <td>  9.8</td>\n",
        "      <td> 2.356126</td>\n",
        "      <td>  9.172358</td>\n",
        "      <td> 0.627642</td>\n",
        "    </tr>\n",
        "    <tr>\n",
        "      <th>6</th>\n",
        "      <td> 19.7</td>\n",
        "      <td>-3.772261</td>\n",
        "      <td> 14.978433</td>\n",
        "      <td> 4.721567</td>\n",
        "    </tr>\n",
        "    <tr>\n",
        "      <th>7</th>\n",
        "      <td>  6.2</td>\n",
        "      <td> 5.075174</td>\n",
        "      <td>  6.596313</td>\n",
        "      <td>-0.396313</td>\n",
        "    </tr>\n",
        "  </tbody>\n",
        "</table>\n",
        "</div>"
       ],
       "metadata": {},
       "output_type": "pyout",
       "prompt_number": 13,
       "text": [
        "   TotalSleep  log_BodyWt       yhat    resids\n",
        "1         8.3    0.000000  11.404567 -3.104567\n",
        "4         3.9    7.842671   3.974367 -0.074367\n",
        "5         9.8    2.356126   9.172358  0.627642\n",
        "6        19.7   -3.772261  14.978433  4.721567\n",
        "7         6.2    5.075174   6.596313 -0.396313"
       ]
      }
     ],
     "prompt_number": 13
    },
    {
     "cell_type": "code",
     "collapsed": false,
     "input": [
      "# plot predictions against real data:\n",
      "plt.scatter(sleep['log_BodyWt'], sleep['TotalSleep'], c='k')\n",
      "plt.plot(sleep['log_BodyWt'], fit.predict(), c='r')\n",
      "plt.xlabel('Log Bodyweight')\n",
      "plt.ylabel('Total Sleep')\n",
      "plt.legend(['Prediction', 'Data'])\n",
      "plt.show()"
     ],
     "language": "python",
     "metadata": {},
     "outputs": [
      {
       "metadata": {
        "png": {
         "height": 273,
         "width": 386
        }
       },
       "output_type": "display_data",
       "png": "[encoded data removed]",
       "text": [
        "<matplotlib.figure.Figure at 0x10d1f1208>"
       ]
      }
     ],
     "prompt_number": 14
    },
    {
     "cell_type": "markdown",
     "metadata": {},
     "source": [
      "## Residual plots\n",
      "\n",
      "Looking at the residuals as a function of our predictors can show some problems with the modelling assumptions. Recall that our model expects the observations to be independent and the errors normally distributed. We can check this graphically with a few plots."
     ]
    },
    {
     "cell_type": "code",
     "collapsed": false,
     "input": [
      "# plot residuals against bodyweight:\n",
      "resids = sleep['TotalSleep'] - fit.predict()\n",
      "plt.scatter(plots_df['log_BodyWt'], resids, c='k')\n",
      "plt.plot((-8, 10), (0, 0), 'r--')\n",
      "plt.xlabel('Log Bodyweight')\n",
      "plt.ylabel('Residuals')\n",
      "plt.tight_layout()\n",
      "plt.show()"
     ],
     "language": "python",
     "metadata": {},
     "outputs": [
      {
       "metadata": {
        "png": {
         "height": 282,
         "width": 425
        }
       },
       "output_type": "display_data",
       "png": "[encoded data removed]",
       "text": [
        "<matplotlib.figure.Figure at 0x10cf889b0>"
       ]
      }
     ],
     "prompt_number": 15
    },
    {
     "cell_type": "markdown",
     "metadata": {},
     "source": [
      "Basically, we want the spread of the residuals around the zero line to look random. There shouldn't be anything systematic there -- if so, our model is missing non-random (i.e. predictable) relationships in the data.\n",
      "\n",
      "For example (from [here](http://www.r-bloggers.com/model-validation-interpreting-residual-plots/)):\n",
      "\n",
      "<img src=\"pics_for_lectures/resid-plots.gif\">\n",
      "\n",
      "If your residuals plots look something like (b)\u2013(f), think about expanding your model to capture the additional relationships in the data.\n",
      "\n",
      "The distribution of residuals should also be approximately normal:"
     ]
    },
    {
     "cell_type": "code",
     "collapsed": false,
     "input": [
      "plt.hist(resids.values);"
     ],
     "language": "python",
     "metadata": {},
     "outputs": [
      {
       "metadata": {
        "png": {
         "height": 258,
         "width": 370
        }
       },
       "output_type": "display_data",
       "png": "[encoded data removed]",
       "text": [
        "<matplotlib.figure.Figure at 0x10cf85320>"
       ]
      }
     ],
     "prompt_number": 16
    },
    {
     "cell_type": "markdown",
     "metadata": {},
     "source": [
      "In this case, it looks a little right-skewed. That is, we might be violating the assumption of normality in residuals, but probably not drastically."
     ]
    },
    {
     "cell_type": "markdown",
     "metadata": {},
     "source": [
      "### Seaborn regression plots\n",
      "\n",
      "Handily, Seaborn allows you to do some of these plots directly, without even doing the statsmodels fitting first. This is great for quickly exploring relationships in data, and happily the plots are also much prettier than the default Matplotlib figures. [See here for examples and code](http://stanford.edu/~mwaskom/software/seaborn/tutorial/quantitative_linear_models.html#visualizing-multiple-regression-with-lmplot)."
     ]
    },
    {
     "cell_type": "code",
     "collapsed": false,
     "input": [
      "sns.lmplot('log_BodyWt', 'TotalSleep', data=sleep)\n",
      "sns.despine(offset=10, trim=True);"
     ],
     "language": "python",
     "metadata": {},
     "outputs": [
      {
       "metadata": {
        "png": {
         "height": 364,
         "width": 363
        }
       },
       "output_type": "display_data",
       "png": "[encoded data removed]",
       "text": [
        "<matplotlib.figure.Figure at 0x10d7069b0>"
       ]
      }
     ],
     "prompt_number": 17
    },
    {
     "cell_type": "code",
     "collapsed": false,
     "input": [
      "sns.residplot('log_BodyWt', 'TotalSleep', data=sleep)\n",
      "sns.despine(offset=10, trim=True);"
     ],
     "language": "python",
     "metadata": {},
     "outputs": [
      {
       "metadata": {
        "png": {
         "height": 283,
         "width": 401
        }
       },
       "output_type": "display_data",
       "png": "[encoded data removed]",
       "text": [
        "<matplotlib.figure.Figure at 0x10d7847b8>"
       ]
      }
     ],
     "prompt_number": 18
    },
    {
     "cell_type": "markdown",
     "metadata": {},
     "source": [
      "Internally these functions are fitting the same regression model as we wrote out above, using statsmodels, and wrapping it into pretty exploratory plots for us."
     ]
    },
    {
     "cell_type": "markdown",
     "metadata": {},
     "source": [
      "# Categorical variables and dummy coding\n",
      "\n",
      "Some variables of interest will be categorical rather than metric / continuous. For example:\n",
      "\n",
      "- gender is generally thought of as dichotomous (Male, Female)\n",
      "- a person's religion might be one of a number of categories (Christian, Muslim, Buddhist, nonbeliever, ...)\n",
      "- \"Species\" is an example from our dataset above\n",
      "\n",
      "**How are categorical variables handled in the design matrix?**\n",
      "\n",
      "Categorical variables are transformed into one or more design matrix columns with a specific meaning regarding the levels of the variable. The most common method, and the one we explore here, is called *Treatment* or *dummy coding*. You can see some examples of other coding schemes built into Patsy [here](http://patsy.readthedocs.org/en/latest/API-reference.html#categorical-coding-ref).\n",
      "\n",
      "For the purposes of this demonstration, let's create a categorical variable \"danger_cat\" where we consider animals with either *high* or *low* danger of predation / exposure."
     ]
    },
    {
     "cell_type": "code",
     "collapsed": false,
     "input": [
      "sleep['danger_cat'] = 'low'  # set as a string, \"low\" for all.\n",
      "sleep.loc[sleep['Danger'] > 3, 'danger_cat'] = 'high'  # set Danger=4 or 5 to \"high\"\n",
      "sleep['danger_cat']"
     ],
     "language": "python",
     "metadata": {},
     "outputs": [
      {
       "metadata": {},
       "output_type": "pyout",
       "prompt_number": 19,
       "text": [
        "1      low\n",
        "4     high\n",
        "5     high\n",
        "6      low\n",
        "7     high\n",
        "8      low\n",
        "9      low\n",
        "10    high\n",
        "11    high\n",
        "14     low\n",
        "15     low\n",
        "16     low\n",
        "17     low\n",
        "21    high\n",
        "22     low\n",
        "24     low\n",
        "26     low\n",
        "27    high\n",
        "28    high\n",
        "31    high\n",
        "32     low\n",
        "33     low\n",
        "36     low\n",
        "37     low\n",
        "38     low\n",
        "39     low\n",
        "41     low\n",
        "42    high\n",
        "43     low\n",
        "44    high\n",
        "45    high\n",
        "47     low\n",
        "48     low\n",
        "49     low\n",
        "50     low\n",
        "51     low\n",
        "53    high\n",
        "56     low\n",
        "57     low\n",
        "58     low\n",
        "59    high\n",
        "60     low\n",
        "Name: danger_cat, dtype: object"
       ]
      }
     ],
     "prompt_number": 19
    },
    {
     "cell_type": "code",
     "collapsed": false,
     "input": [
      "# how does total sleep appear to change according to our new categories?\n",
      "sns.set_context('notebook')\n",
      "g = sns.boxplot(sleep['TotalSleep'], groupby=sleep['danger_cat'])\n",
      "sns.despine(ax=g, offset=10);\n",
      "\n",
      "# Note how \"violinplot\" can be a bit misleading here, due to few cases and the kernel density smooth:\n",
      "# g = sns.violinplot(sleep['TotalSleep'], groupby=sleep['danger_cat'])\n",
      "# sns.despine(ax=g, offset=10);\n",
      "plt.savefig('blah.pdf')"
     ],
     "language": "python",
     "metadata": {},
     "outputs": [
      {
       "metadata": {
        "png": {
         "height": 367,
         "width": 503
        }
       },
       "output_type": "display_data",
       "png": "[encoded data removed]",
       "text": [
        "<matplotlib.figure.Figure at 0x10d74a198>"
       ]
      }
     ],
     "prompt_number": 20
    },
    {
     "cell_type": "markdown",
     "metadata": {},
     "source": [
      "The low danger group seem to sleep for longer on average than the high danger group.\n",
      "\n",
      "Now imagine we want to use a GLM to test this impression. **Is the total amount of sleep in the high danger group less than the low danger group?**"
     ]
    },
    {
     "cell_type": "code",
     "collapsed": false,
     "input": [
      "y, X = patsy.dmatrices('TotalSleep ~ danger_cat', sleep)\n",
      "X"
     ],
     "language": "python",
     "metadata": {},
     "outputs": [
      {
       "metadata": {},
       "output_type": "pyout",
       "prompt_number": 21,
       "text": [
        "DesignMatrix with shape (42, 2)\n",
        "  Intercept  danger_cat[T.low]\n",
        "          1                  1\n",
        "          1                  0\n",
        "          1                  0\n",
        "          1                  1\n",
        "          1                  0\n",
        "          1                  1\n",
        "          1                  1\n",
        "          1                  0\n",
        "          1                  0\n",
        "          1                  1\n",
        "          1                  1\n",
        "          1                  1\n",
        "          1                  1\n",
        "          1                  0\n",
        "          1                  1\n",
        "          1                  1\n",
        "          1                  1\n",
        "          1                  0\n",
        "          1                  0\n",
        "          1                  0\n",
        "          1                  1\n",
        "          1                  1\n",
        "          1                  1\n",
        "          1                  1\n",
        "          1                  1\n",
        "          1                  1\n",
        "          1                  1\n",
        "          1                  0\n",
        "          1                  1\n",
        "          1                  0\n",
        "  [12 rows omitted]\n",
        "  Terms:\n",
        "    'Intercept' (column 0)\n",
        "    'danger_cat' (column 1)\n",
        "  (to view full data, use np.asarray(this_obj))"
       ]
      }
     ],
     "prompt_number": 21
    },
    {
     "cell_type": "markdown",
     "metadata": {},
     "source": [
      "Now see that the design matrix column for `danger_cat` takes on two values: 0 (for high danger) and 1 (for low danger). What does this mean for the predictions? Let's think through what happens when we multiply these results by $\\beta$.\n",
      "\n",
      "When `danger_cat = 1`, \n",
      "\n",
      "$\\hat y = \\beta_1 * 1 + \\beta_2 * 1$\n",
      "\n",
      "when `danger_cat = 0`,\n",
      "\n",
      "$\\hat y = \\beta_1 * 1 + \\beta_2 * 0$\n",
      "\n",
      "That is, the intercept coefficient $\\beta_1$ represents the mean for the high danger group (`danger_cat = 0`), and the $\\beta_2$ coefficient represents the *difference* between the means of the high group and the low group.\n",
      "\n",
      "Let's see what those coefficients are:"
     ]
    },
    {
     "cell_type": "code",
     "collapsed": false,
     "input": [
      "fit = smf.glm(formula='TotalSleep ~ danger_cat', data=sleep).fit()\n",
      "print(fit.summary())"
     ],
     "language": "python",
     "metadata": {},
     "outputs": [
      {
       "output_type": "stream",
       "stream": "stdout",
       "text": [
        "                 Generalized Linear Model Regression Results                  \n",
        "==============================================================================\n",
        "Dep. Variable:             TotalSleep   No. Observations:                   42\n",
        "Model:                            GLM   Df Residuals:                       40\n",
        "Model Family:                Gaussian   Df Model:                            1\n",
        "Link Function:               identity   Scale:                   16.8412589286\n",
        "Method:                          IRLS   Log-Likelihood:                -117.87\n",
        "Date:                Tue, 24 Feb 2015   Deviance:                       673.65\n",
        "Time:                        17:12:46   Pearson chi2:                     674.\n",
        "No. Iterations:                     4                                         \n",
        "=====================================================================================\n",
        "                        coef    std err          z      P>|z|      [95.0% Conf. Int.]\n",
        "-------------------------------------------------------------------------------------\n",
        "Intercept             7.2929      1.097      6.649      0.000         5.143     9.443\n",
        "danger_cat[T.low]     5.0250      1.343      3.741      0.000         2.392     7.658\n",
        "=====================================================================================\n"
       ]
      }
     ],
     "prompt_number": 22
    },
    {
     "cell_type": "markdown",
     "metadata": {},
     "source": [
      "The intercept coefficient is 7.29 hours of sleep. You can see from the box plot above that this corresponds to the mean of the high danger group. The difference between the high and low group (the coefficient for danger_cat) is 5.02 hours. That is, the mean of the low danger group is 7.29 + 5.02 = 12.31 hours (again, check that this looks right according to the box plot). \n",
      "\n",
      "We can see from the z scores that given the variance in the samples (std err), the intercept is significantly different to zero (i.e. the high danger group sleep significantly more than zero hours) and that the difference between the high and low danger groups is also significant (i.e. the low danger group sleeps for significantly longer than the high danger group).\n",
      "\n",
      "We've just tested two hypotheses. What do these tests remind you of?\n",
      "\n",
      "\n",
      "## t-tests\n",
      "\n",
      "Testing if the coefficient of the `danger_cat` variable is different to zero is (almost) the same as *an independent samples t-test*! It's not exactly the same because `glm` uses a z-test -- if we fitted the model with ordinary least squares [`smf.ols`] it would be exactly the same in this case.\n",
      "\n",
      "To prove to ourselves that these are equivalent, let's do the appropriate tests:"
     ]
    },
    {
     "cell_type": "code",
     "collapsed": false,
     "input": [
      "high_array = sleep['TotalSleep'][sleep['danger_cat']=='high']\n",
      "low_array = sleep['TotalSleep'][sleep['danger_cat']=='low']"
     ],
     "language": "python",
     "metadata": {},
     "outputs": [],
     "prompt_number": 23
    },
    {
     "cell_type": "code",
     "collapsed": false,
     "input": [
      "# how does this compare to an independent groups z-test?\n",
      "t, p = sm_stats.weightstats.ztest(high_array, low_array)\n",
      "'Independent samples z-test: z = {t}, p = {p}'.format(t=np.round(t, decimals=3), p=p)"
     ],
     "language": "python",
     "metadata": {},
     "outputs": [
      {
       "metadata": {},
       "output_type": "pyout",
       "prompt_number": 24,
       "text": [
        "'Independent samples z-test: z = -3.741, p = 0.00018341854744738338'"
       ]
      }
     ],
     "prompt_number": 24
    },
    {
     "cell_type": "code",
     "collapsed": false,
     "input": [
      "'Model values: z = {t}, p = {p}'.format(\n",
      "                        t=np.round(fit.tvalues[1], decimals=3), \n",
      "                        p=fit.pvalues[1])"
     ],
     "language": "python",
     "metadata": {},
     "outputs": [
      {
       "metadata": {},
       "output_type": "pyout",
       "prompt_number": 25,
       "text": [
        "'Model values: z = 3.741, p = 0.00018341854744738338'"
       ]
      }
     ],
     "prompt_number": 25
    },
    {
     "cell_type": "markdown",
     "metadata": {},
     "source": [
      "So we can see that the values from the model are exactly the same as a z-test. What about t?"
     ]
    },
    {
     "cell_type": "code",
     "collapsed": false,
     "input": [
      "fit_ols = smf.ols(formula='TotalSleep ~ danger_cat', data=sleep).fit()\n",
      "print(fit_ols.summary())"
     ],
     "language": "python",
     "metadata": {},
     "outputs": [
      {
       "output_type": "stream",
       "stream": "stdout",
       "text": [
        "                            OLS Regression Results                            \n",
        "==============================================================================\n",
        "Dep. Variable:             TotalSleep   R-squared:                       0.259\n",
        "Model:                            OLS   Adj. R-squared:                  0.241\n",
        "Method:                 Least Squares   F-statistic:                     13.99\n",
        "Date:                Tue, 24 Feb 2015   Prob (F-statistic):           0.000575\n",
        "Time:                        17:12:46   Log-Likelihood:                -117.87\n",
        "No. Observations:                  42   AIC:                             239.7\n",
        "Df Residuals:                      40   BIC:                             243.2\n",
        "Df Model:                           1                                         \n",
        "Covariance Type:            nonrobust                                         \n",
        "=====================================================================================\n",
        "                        coef    std err          t      P>|t|      [95.0% Conf. Int.]\n",
        "-------------------------------------------------------------------------------------\n",
        "Intercept             7.2929      1.097      6.649      0.000         5.076     9.510\n",
        "danger_cat[T.low]     5.0250      1.343      3.741      0.001         2.310     7.740\n",
        "==============================================================================\n",
        "Omnibus:                        2.740   Durbin-Watson:                   1.526\n",
        "Prob(Omnibus):                  0.254   Jarque-Bera (JB):                1.557\n",
        "Skew:                           0.165   Prob(JB):                        0.459\n",
        "Kurtosis:                       2.117   Cond. No.                         3.23\n",
        "==============================================================================\n",
        "\n",
        "Warnings:\n",
        "[1] Standard Errors assume that the covariance matrix of the errors is correctly specified.\n"
       ]
      }
     ],
     "prompt_number": 26
    },
    {
     "cell_type": "code",
     "collapsed": false,
     "input": [
      "t, p, df = sm_stats.weightstats.ttest_ind(low_array, high_array)\n",
      "'Independent samples t-test: t({df}) = {t}, p = {p}'.format(\n",
      "    t=np.round(t, decimals=3), df=int(df), p=p)"
     ],
     "language": "python",
     "metadata": {},
     "outputs": [
      {
       "metadata": {},
       "output_type": "pyout",
       "prompt_number": 27,
       "text": [
        "'Independent samples t-test: t(40) = 3.741, p = 0.0005752964234035196'"
       ]
      }
     ],
     "prompt_number": 27
    },
    {
     "cell_type": "code",
     "collapsed": false,
     "input": [
      "'Model values: t = {t}, p = {p}'.format(\n",
      "                        t=np.round(fit_ols.tvalues[1], decimals=3), \n",
      "                        p=fit_ols.pvalues[1])"
     ],
     "language": "python",
     "metadata": {},
     "outputs": [
      {
       "metadata": {},
       "output_type": "pyout",
       "prompt_number": 28,
       "text": [
        "'Model values: t = 3.741, p = 0.0005752964234035218'"
       ]
      }
     ],
     "prompt_number": 28
    },
    {
     "cell_type": "markdown",
     "metadata": {},
     "source": [
      "They are identical to high precision!"
     ]
    },
    {
     "cell_type": "markdown",
     "metadata": {},
     "source": [
      "## One-sample test (mean of `high` different to zero)\n",
      "\n",
      "The test of the regression coefficient for the intercept is conceptually the same as a one-sample t-test: we ask whether the mean of the \"high\" group is different to zero. In practice however, because the standard errors in the regression are calculated using the entire design matrix, the test statistics and confidence intervals for the intercept are not the same as a one-sample t-test. Loosely, the standard errors of the intercept depend on the total variance in the dataset (i.e. all variables included in the regression), whereas in the separate one-sample test they do not."
     ]
    },
    {
     "cell_type": "code",
     "collapsed": false,
     "input": [
      "# using statsmodels, must first compute \"descrstats\":\n",
      "d1 = sm_stats.weightstats.DescrStatsW(high_array)\n",
      "t, p = d1.ztest_mean(0)\n",
      "'Independent z-test: z = {t}, p = {p}'.format(\n",
      "    t=np.round(t, decimals=3), p=p)"
     ],
     "language": "python",
     "metadata": {},
     "outputs": [
      {
       "metadata": {},
       "output_type": "pyout",
       "prompt_number": 29,
       "text": [
        "'Independent z-test: z = 8.632, p = 6.026877856701133e-18'"
       ]
      }
     ],
     "prompt_number": 29
    },
    {
     "cell_type": "markdown",
     "metadata": {},
     "source": [
      "Is this the same as from the linear model fit?\n"
     ]
    },
    {
     "cell_type": "code",
     "collapsed": false,
     "input": [
      "'Model values: z = {t}, p = {p}'.format(\n",
      "                        t=np.round(fit.tvalues[0], decimals=3), \n",
      "                        p=fit.pvalues[0])\n"
     ],
     "language": "python",
     "metadata": {},
     "outputs": [
      {
       "metadata": {},
       "output_type": "pyout",
       "prompt_number": 30,
       "text": [
        "'Model values: z = 6.649, p = 2.9453554513479515e-11'"
       ]
      }
     ],
     "prompt_number": 30
    },
    {
     "cell_type": "markdown",
     "metadata": {},
     "source": [
      "So we can see that the test statistics for the intercept are not the same: 8.632 in the separate test compared to 6.64 in the regression model. As mentioned above, the total variance in the design matrix contributes to the standard errors. \n",
      "\n",
      "We can check that it's equivalent to fitting an intercept-only model to just the `high` dataset:"
     ]
    },
    {
     "cell_type": "code",
     "collapsed": false,
     "input": [
      "# cell to check \"high\" alone\n",
      "high_only = sleep.copy()\n",
      "high_only = high_only[high_only['danger_cat']=='high']\n",
      "fit_high = smf.glm(formula='TotalSleep ~ 1', data=high_only).fit()\n",
      "print(fit_high.summary())"
     ],
     "language": "python",
     "metadata": {},
     "outputs": [
      {
       "output_type": "stream",
       "stream": "stdout",
       "text": [
        "                 Generalized Linear Model Regression Results                  \n",
        "==============================================================================\n",
        "Dep. Variable:             TotalSleep   No. Observations:                   14\n",
        "Model:                            GLM   Df Residuals:                       13\n",
        "Model Family:                Gaussian   Df Model:                            0\n",
        "Link Function:               identity   Scale:                   9.99302197802\n",
        "Method:                          IRLS   Log-Likelihood:                -35.460\n",
        "Date:                Tue, 24 Feb 2015   Deviance:                       129.91\n",
        "Time:                        17:12:46   Pearson chi2:                     130.\n",
        "No. Iterations:                     4                                         \n",
        "==============================================================================\n",
        "                 coef    std err          z      P>|z|      [95.0% Conf. Int.]\n",
        "------------------------------------------------------------------------------\n",
        "Intercept      7.2929      0.845      8.632      0.000         5.637     8.949\n",
        "==============================================================================\n"
       ]
      }
     ],
     "prompt_number": 31
    },
    {
     "cell_type": "markdown",
     "metadata": {},
     "source": [
      "So in this case, where the `low` cases are excluded and we only fit an intercept, the GLM is the same as the separate one-sample test."
     ]
    },
    {
     "cell_type": "markdown",
     "metadata": {},
     "source": [
      "# Categorical variable with more than one level\n",
      "\n",
      "We learned above that \"dummy coding\" is when you transform a categorical variable into 0s and 1s in the design matrix. How does this work for categorical variables with more than two levels?\n",
      "\n",
      "Let's try by treating the \"Lifespan\" variable (continuous, lifespan in years) as a *categorical* rather than *continuous* variable. I will create a new variable, grouping lifespan into three categories: short, medium, long.\n",
      "\n",
      "To do this we will use Pandas' `qcut` function, which cuts a variable into groups based on quantiles. This creates a new Pandas Series whose type is `categorical`. While categories are going to be really useful in the future, right now they don't play nice with other packages (like statsmodels). For this reason, we will convert the category data type to a plain old object. See the docs for categories [here](https://pandas-docs.github.io/pandas-docs-travis/categorical.html)."
     ]
    },
    {
     "cell_type": "code",
     "collapsed": false,
     "input": [
      "sleep['life_cat'] = pd.qcut(sleep['LifeSpan'], [0, .33, .66, 1])\n",
      "sleep['life_cat']\n",
      "\n",
      "# category labels are a bit ugly, reflecting range of cuts:"
     ],
     "language": "python",
     "metadata": {},
     "outputs": [
      {
       "metadata": {},
       "output_type": "pyout",
       "prompt_number": 32,
       "text": [
        "1          [2, 6.765]\n",
        "4       (20.428, 100]\n",
        "5       (20.428, 100]\n",
        "6     (6.765, 20.428]\n",
        "7       (20.428, 100]\n",
        "8       (20.428, 100]\n",
        "9       (20.428, 100]\n",
        "10    (6.765, 20.428]\n",
        "11      (20.428, 100]\n",
        "14         [2, 6.765]\n",
        "15      (20.428, 100]\n",
        "16         [2, 6.765]\n",
        "17    (6.765, 20.428]\n",
        "21    (6.765, 20.428]\n",
        "22         [2, 6.765]\n",
        "24      (20.428, 100]\n",
        "26    (6.765, 20.428]\n",
        "27    (6.765, 20.428]\n",
        "28      (20.428, 100]\n",
        "31         [2, 6.765]\n",
        "32      (20.428, 100]\n",
        "33      (20.428, 100]\n",
        "36         [2, 6.765]\n",
        "37         [2, 6.765]\n",
        "38         [2, 6.765]\n",
        "39         [2, 6.765]\n",
        "41    (6.765, 20.428]\n",
        "42    (6.765, 20.428]\n",
        "43    (6.765, 20.428]\n",
        "44      (20.428, 100]\n",
        "45    (6.765, 20.428]\n",
        "47         [2, 6.765]\n",
        "48    (6.765, 20.428]\n",
        "49      (20.428, 100]\n",
        "50    (6.765, 20.428]\n",
        "51         [2, 6.765]\n",
        "53    (6.765, 20.428]\n",
        "56         [2, 6.765]\n",
        "57    (6.765, 20.428]\n",
        "58         [2, 6.765]\n",
        "59      (20.428, 100]\n",
        "60         [2, 6.765]\n",
        "Name: life_cat, dtype: category\n",
        "Categories (3, object): [[2, 6.765] < (6.765, 20.428] < (20.428, 100]]"
       ]
      }
     ],
     "prompt_number": 32
    },
    {
     "cell_type": "code",
     "collapsed": false,
     "input": [
      "# change category labels, then convert to object:\n",
      "sleep['life_cat'] = sleep['life_cat'].cat.rename_categories(['short', 'med', 'long']) # rename categories\n",
      "sleep['life_cat'] = sleep['life_cat'].astype('object')  # make it an object, rather than a category\n",
      "sleep['life_cat']"
     ],
     "language": "python",
     "metadata": {},
     "outputs": [
      {
       "metadata": {},
       "output_type": "pyout",
       "prompt_number": 33,
       "text": [
        "1     short\n",
        "4      long\n",
        "5      long\n",
        "6       med\n",
        "7      long\n",
        "8      long\n",
        "9      long\n",
        "10      med\n",
        "11     long\n",
        "14    short\n",
        "15     long\n",
        "16    short\n",
        "17      med\n",
        "21      med\n",
        "22    short\n",
        "24     long\n",
        "26      med\n",
        "27      med\n",
        "28     long\n",
        "31    short\n",
        "32     long\n",
        "33     long\n",
        "36    short\n",
        "37    short\n",
        "38    short\n",
        "39    short\n",
        "41      med\n",
        "42      med\n",
        "43      med\n",
        "44     long\n",
        "45      med\n",
        "47    short\n",
        "48      med\n",
        "49     long\n",
        "50      med\n",
        "51    short\n",
        "53      med\n",
        "56    short\n",
        "57      med\n",
        "58    short\n",
        "59     long\n",
        "60    short\n",
        "Name: life_cat, dtype: object"
       ]
      }
     ],
     "prompt_number": 33
    },
    {
     "cell_type": "markdown",
     "metadata": {},
     "source": [
      "So now we have a new categorical variable, `life_cat`, with three levels. In this case it would be appropriate to analyse the categories as ordered (see [here](http://patsy.readthedocs.org/en/latest/API-reference.html#categorical-coding-ref) for how to do that in Patsy, and [here](http://www.ats.ucla.edu/stat/sas/webbooks/reg/chapter5/sasreg5.htm) for a discussion of different coding schemes). However, for simplicity here we're going to treat this as *unordered*, meaning that our model thinks the category order doesn't matter (e.g. with something like religion). \n",
      "\n",
      "What does Patsy do when we make a design matrix using a categorical predictor with more than 2 levels?"
     ]
    },
    {
     "cell_type": "code",
     "collapsed": false,
     "input": [
      "y, X = patsy.dmatrices('TotalSleep ~ life_cat', sleep)\n",
      "X"
     ],
     "language": "python",
     "metadata": {},
     "outputs": [
      {
       "metadata": {},
       "output_type": "pyout",
       "prompt_number": 34,
       "text": [
        "DesignMatrix with shape (42, 3)\n",
        "  Intercept  life_cat[T.med]  life_cat[T.short]\n",
        "          1                0                  1\n",
        "          1                0                  0\n",
        "          1                0                  0\n",
        "          1                1                  0\n",
        "          1                0                  0\n",
        "          1                0                  0\n",
        "          1                0                  0\n",
        "          1                1                  0\n",
        "          1                0                  0\n",
        "          1                0                  1\n",
        "          1                0                  0\n",
        "          1                0                  1\n",
        "          1                1                  0\n",
        "          1                1                  0\n",
        "          1                0                  1\n",
        "          1                0                  0\n",
        "          1                1                  0\n",
        "          1                1                  0\n",
        "          1                0                  0\n",
        "          1                0                  1\n",
        "          1                0                  0\n",
        "          1                0                  0\n",
        "          1                0                  1\n",
        "          1                0                  1\n",
        "          1                0                  1\n",
        "          1                0                  1\n",
        "          1                1                  0\n",
        "          1                1                  0\n",
        "          1                1                  0\n",
        "          1                0                  0\n",
        "  [12 rows omitted]\n",
        "  Terms:\n",
        "    'Intercept' (column 0)\n",
        "    'life_cat' (columns 1:3)\n",
        "  (to view full data, use np.asarray(this_obj))"
       ]
      }
     ],
     "prompt_number": 34
    },
    {
     "cell_type": "markdown",
     "metadata": {},
     "source": [
      "You can see that we now have the intercept plus *two* additional columns, whose values can be zero or one. Take a look down the columns and compare them to the values of `sleep['life_cat']` above. \n",
      "\n",
      "Let's take for example the first 5 rows:"
     ]
    },
    {
     "cell_type": "code",
     "collapsed": false,
     "input": [
      "sleep['life_cat'].head()"
     ],
     "language": "python",
     "metadata": {},
     "outputs": [
      {
       "metadata": {},
       "output_type": "pyout",
       "prompt_number": 35,
       "text": [
        "1    short\n",
        "4     long\n",
        "5     long\n",
        "6      med\n",
        "7     long\n",
        "Name: life_cat, dtype: object"
       ]
      }
     ],
     "prompt_number": 35
    },
    {
     "cell_type": "code",
     "collapsed": false,
     "input": [
      "X[0:5, :]  # first five rows, and second two cols of X"
     ],
     "language": "python",
     "metadata": {},
     "outputs": [
      {
       "metadata": {},
       "output_type": "pyout",
       "prompt_number": 36,
       "text": [
        "array([[ 1.,  0.,  1.],\n",
        "       [ 1.,  0.,  0.],\n",
        "       [ 1.,  0.,  0.],\n",
        "       [ 1.,  1.,  0.],\n",
        "       [ 1.,  0.,  0.]])"
       ]
      }
     ],
     "prompt_number": 36
    },
    {
     "cell_type": "markdown",
     "metadata": {},
     "source": [
      "Let's work through what this means for the Beta weights:\n",
      "\n",
      "**For rows where 'life_cat' is 'long'**, the value of the two X columns is `[0, 0]`. Therefore, the prediction for TotalSleep in these rows is:\n",
      "\n",
      "$\\hat y = \\beta_1 * 1 + \\beta_2 * 0 + \\beta_3 * 0$\n",
      "\n",
      "$\\hat y = \\beta_1$\n",
      "\n",
      "The first beta weight (the intercept) is therefore the mean of the 'long' group.\n",
      "\n",
      "**For rows where 'life_cat' is 'short'**, the value of the two X columns is `[1, 0]`. Therefore, the prediction for TotalSleep in these rows is:\n",
      "\n",
      "$\\hat y = \\beta_1 * 1 + \\beta_2 * 1 + \\beta_3 * 0$\n",
      "\n",
      "$\\hat y = \\beta_1 + \\beta_2$\n",
      "\n",
      "The second beta weight is therefore the average *difference* between the 'long' group and the 'short' group.\n",
      "\n",
      "Finally, **for rows where 'life_cat' is 'med'**, the value of the two X columns is `[0, 1]`. Therefore, the prediction for TotalSleep in these rows is:\n",
      "\n",
      "$\\hat y = \\beta_1 * 1 + \\beta_2 * 0 + \\beta_3 * 1$\n",
      "\n",
      "$\\hat y = \\beta_1 + \\beta_3$\n",
      "\n",
      "The third beta weight is therefore the average *difference* between the 'long' group and the 'med' group.\n",
      "\n",
      "Let's see what these coefficients turn out to be, by fitting the model:"
     ]
    },
    {
     "cell_type": "code",
     "collapsed": false,
     "input": [
      "fit = smf.glm('TotalSleep ~ life_cat', sleep).fit()\n",
      "print(fit.summary())"
     ],
     "language": "python",
     "metadata": {},
     "outputs": [
      {
       "output_type": "stream",
       "stream": "stdout",
       "text": [
        "                 Generalized Linear Model Regression Results                  \n",
        "==============================================================================\n",
        "Dep. Variable:             TotalSleep   No. Observations:                   42\n",
        "Model:                            GLM   Df Residuals:                       39\n",
        "Model Family:                Gaussian   Df Model:                            2\n",
        "Link Function:               identity   Scale:                   20.0783516484\n",
        "Method:                          IRLS   Log-Likelihood:                -121.03\n",
        "Date:                Tue, 24 Feb 2015   Deviance:                       783.06\n",
        "Time:                        17:12:46   Pearson chi2:                     783.\n",
        "No. Iterations:                     4                                         \n",
        "=====================================================================================\n",
        "                        coef    std err          z      P>|z|      [95.0% Conf. Int.]\n",
        "-------------------------------------------------------------------------------------\n",
        "Intercept             8.7071      1.198      7.271      0.000         6.360    11.054\n",
        "life_cat[T.med]       1.6000      1.694      0.945      0.345        -1.719     4.919\n",
        "life_cat[T.short]     4.2071      1.694      2.484      0.013         0.888     7.527\n",
        "=====================================================================================\n"
       ]
      }
     ],
     "prompt_number": 37
    },
    {
     "cell_type": "markdown",
     "metadata": {},
     "source": [
      "If we add up these coefficients, we get some predictions for the mean amount of sleep in each category (intercept is just for the 'long' group):"
     ]
    },
    {
     "cell_type": "code",
     "collapsed": false,
     "input": [
      "long_mean = fit.params[0]\n",
      "short_mean = fit.params[0] + fit.params[2]\n",
      "med_mean = fit.params[0] + fit.params[1]\n",
      "\n",
      "print('the predictions are: \\\n",
      "      \\n long = {} \\\n",
      "      \\n med = {} \\\n",
      "      \\n short = {}'.format(np.round(long_mean, decimals=1), \n",
      "                          np.round(med_mean, decimals=1), \n",
      "                          np.round(short_mean, decimals=1)))"
     ],
     "language": "python",
     "metadata": {},
     "outputs": [
      {
       "output_type": "stream",
       "stream": "stdout",
       "text": [
        "the predictions are:       \n",
        " long = 8.7       \n",
        " med = 10.3       \n",
        " short = 12.9\n"
       ]
      }
     ],
     "prompt_number": 38
    },
    {
     "cell_type": "markdown",
     "metadata": {},
     "source": [
      "Let's check that against a boxplot (which plots medians, but will give us a good idea):"
     ]
    },
    {
     "cell_type": "code",
     "collapsed": false,
     "input": [
      "g = sns.boxplot(sleep['TotalSleep'], groupby=sleep['life_cat'])\n",
      "sns.despine(ax=g, offset=10);"
     ],
     "language": "python",
     "metadata": {},
     "outputs": [
      {
       "metadata": {
        "png": {
         "height": 367,
         "width": 503
        }
       },
       "output_type": "display_data",
       "png": "[encoded data removed]",
       "text": [
        "<matplotlib.figure.Figure at 0x10ec42978>"
       ]
      }
     ],
     "prompt_number": 39
    },
    {
     "cell_type": "markdown",
     "metadata": {},
     "source": [
      "So that looks about right. As before, the z-tests of the coefficients compare groups. The 'short' lifespan group gets significantly more hours of sleep than the 'long' lifespan group (P = .013), but the difference between the 'med' and 'long' groups is not significant (P = .345)."
     ]
    },
    {
     "cell_type": "markdown",
     "metadata": {},
     "source": [
      "## Reference level\n",
      "\n",
      "In the scheme of setting up design matrices we use here, a categorical predictor will have $k - 1$ columns in the design matrix, where $k$ is the number of categories. For example, in our two category (Danger = low or high) example from before, there was $2 - 1 = 1$ column of the design matrix for this categorical predictor.\n",
      "\n",
      "Note how the intercept takes on a meaning in these designs: the prediction for one of the categories. The category that corresponds to the intercept (or, when all the columns for this variable are zero) is called the *reference level* or *reference category*. The additional design matrix columns tell us how the non-reference categories differ from the reference level.\n",
      "\n",
      "In Patsy, we can specify the reference level manually (e.g. if we wanted the intercept to be the mean of the 'short' group rather than the 'long' group). See the Patsy documentation [here](http://patsy.readthedocs.org/en/latest/categorical-coding.html) for how to do this."
     ]
    },
    {
     "cell_type": "markdown",
     "metadata": {},
     "source": [
      "# Your homework: multiple predictors\n",
      "\n",
      "In each example above, we have fit GLMs with single predictor variables. It is possible to expand our design matrix to include multiple predictors. In Patsy, the `+` operator is used to add a predictor to the design matrix. \n",
      "\n",
      "In a new notebook file, you should\n",
      "\n",
      "1. Import the sleep data\n",
      "1. Create the new variables (log_BodyWt, danger_cat, life_cat) by copying the code from this notebook.\n",
      "1. Fit the model \"`TotalSleep ~ log_BodyWt + danger_cat + life_cat`\"\n",
      "1. Think about the meaning of the coefficients. Write down what each coefficient means.\n",
      "1. Bonus: work out the predicted total sleep for a species that is\n",
      "    - low danger\n",
      "    - medium lifespan\n",
      "    - weighs 13 kg."
     ]
    },
    {
     "cell_type": "code",
     "collapsed": false,
     "input": [
      "from IPython.core.display import HTML\n",
      "\n",
      "def css_styling():\n",
      "    styles = open(\"../custom_style.css\", \"r\").read()\n",
      "    return HTML(styles)\n",
      "css_styling()"
     ],
     "language": "python",
     "metadata": {},
     "outputs": [
      {
       "html": [
        "<style>\n",
        "    @font-face {\n",
        "        font-family: \"Computer Modern\";\n",
        "        src: url('http://9dbb143991406a7c655e-aa5fcb0a5a4ec34cff238a2d56ca4144.r56.cf5.rackcdn.com/cmunss.otf');\n",
        "    }\n",
        "    @font-face {\n",
        "        font-family: \"Computer Modern\";\n",
        "        font-weight: bold;\n",
        "        src: url('http://9dbb143991406a7c655e-aa5fcb0a5a4ec34cff238a2d56ca4144.r56.cf5.rackcdn.com/cmunsx.otf');\n",
        "    }\n",
        "    @font-face {\n",
        "        font-family: \"Computer Modern\";\n",
        "        font-style: oblique;\n",
        "        src: url('http://9dbb143991406a7c655e-aa5fcb0a5a4ec34cff238a2d56ca4144.r56.cf5.rackcdn.com/cmunsi.otf');\n",
        "    }\n",
        "    @font-face {\n",
        "        font-family: \"Computer Modern\";\n",
        "        font-weight: bold;\n",
        "        font-style: oblique;\n",
        "        src: url('http://9dbb143991406a7c655e-aa5fcb0a5a4ec34cff238a2d56ca4144.r56.cf5.rackcdn.com/cmunso.otf');\n",
        "    }\n",
        "    div.cell{\n",
        "        width:850px;\n",
        "        font-size: 11pt;\n",
        "        margin-left:16% !important;\n",
        "        margin-right:auto;\n",
        "    }\n",
        "    h1 {\n",
        "        font-family: Minion Pro, serif;\n",
        "    }\n",
        "    h2 {\n",
        "        font-family: Minion Pro, serif;\n",
        "    }\n",
        "    h3 {\n",
        "        font-family: Minion Pro, serif;\n",
        "    }\n",
        "    h4{\n",
        "        margin-top:12px;\n",
        "        margin-bottom: 3px;\n",
        "       }\n",
        "    div.text_cell_render{\n",
        "        font-family: Optima, sans-serif;\n",
        "        line-height: 145%;\n",
        "        font-size: 12pt;\n",
        "        width:850px;\n",
        "        margin-left:auto;\n",
        "        margin-right:auto;\n",
        "    }\n",
        "    .CodeMirror{\n",
        "            font-family: \"Source Code Pro\", source-code-pro,Consolas, monospace;\n",
        "    }\n",
        "    .prompt{\n",
        "        display: None;\n",
        "    }\n",
        "    .text_cell_render h5 {\n",
        "        font-weight: 300;\n",
        "        font-size: 12pt;\n",
        "        color: #4057A1;\n",
        "        font-style: italic;\n",
        "        margin-bottom: .5em;\n",
        "        margin-top: 0.5em;\n",
        "        display: block;\n",
        "    }\n",
        "\n",
        "    .warning{\n",
        "        color: rgb( 240, 20, 20 )\n",
        "        }\n",
        "</style>\n",
        "<script>\n",
        "    MathJax.Hub.Config({\n",
        "                        TeX: {\n",
        "                           extensions: [\"AMSmath.js\"]\n",
        "                           },\n",
        "                tex2jax: {\n",
        "                    inlineMath: [ ['$','$'], [\"\\\\(\",\"\\\\)\"] ],\n",
        "                    displayMath: [ ['$$','$$'], [\"\\\\[\",\"\\\\]\"] ]\n",
        "                },\n",
        "                displayAlign: 'center', // Change this to 'center' to center equations.\n",
        "                \"HTML-CSS\": {\n",
        "                    styles: {'.MathJax_Display': {\"margin\": 4}}\n",
        "                }\n",
        "        });\n",
        "</script>"
       ],
       "metadata": {},
       "output_type": "pyout",
       "prompt_number": 1,
       "text": [
        "<IPython.core.display.HTML at 0x1054317b8>"
       ]
      }
     ],
     "prompt_number": 1
    }
   ],
   "metadata": {}
  }
 ]
}